{
  "nbformat": 4,
  "nbformat_minor": 0,
  "metadata": {
    "colab": {
      "name": "use_function.ipynb",
      "provenance": [],
      "authorship_tag": "ABX9TyMpiR1vkvKSR6itVnpEbFs5"
    },
    "kernelspec": {
      "name": "python3",
      "display_name": "Python 3"
    },
    "language_info": {
      "name": "python"
    }
  },
  "cells": [
    {
      "cell_type": "code",
      "execution_count": null,
      "metadata": {
        "id": "qrP8EzYQGyTI"
      },
      "outputs": [],
      "source": [
        "import sakuragi"
      ]
    }
  ]
}