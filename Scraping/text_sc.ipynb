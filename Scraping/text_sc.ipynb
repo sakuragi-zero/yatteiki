{
  "nbformat": 4,
  "nbformat_minor": 0,
  "metadata": {
    "colab": {
      "name": "text_sc.ipynb",
      "provenance": [],
      "authorship_tag": "ABX9TyPsRmHhGL0Rk8IY7RRwGy7s"
    },
    "kernelspec": {
      "name": "python3",
      "display_name": "Python 3"
    },
    "language_info": {
      "name": "python"
    }
  },
  "cells": [
    {
      "cell_type": "markdown",
      "source": [
        "とってくるサイト→https://note.com/  \n",
        "ドキュメント→https://www.crummy.com/software/BeautifulSoup/bs4/doc/#a-string  \n"
      ],
      "metadata": {
        "id": "Qiy5SAJVlc0E"
      }
    },
    {
      "cell_type": "markdown",
      "source": [
        "ブログのURLの一覧を取得できれば簡単に処理の自動化ができそうです"
      ],
      "metadata": {
        "id": "UDcm2kCxluJv"
      }
    },
    {
      "cell_type": "markdown",
      "source": [
        "リクエスでURLを抜き取る→そこからスープで解析"
      ],
      "metadata": {
        "id": "mf7SPkyP8ilu"
      }
    },
    {
      "cell_type": "code",
      "execution_count": 8,
      "metadata": {
        "id": "rq_XVOyMbapB"
      },
      "outputs": [],
      "source": [
        "from bs4 import BeautifulSoup\n",
        "import requests\n",
        "import re\n",
        "import json"
      ]
    },
    {
      "cell_type": "markdown",
      "source": [
        "\"https://note.com/api/v2/creators/seiburogu/contents?kind=note&disabled_pinned=false&with_notes=false&page=\""
      ],
      "metadata": {
        "id": "8XhlOJWJ3m8s"
      }
    },
    {
      "cell_type": "markdown",
      "source": [
        "辞書からurlを取得する  \n",
        "jsonを返すurlと記事の総数を繰り返しのレンジとして与えます  \n"
      ],
      "metadata": {
        "id": "L_14efoQM2UF"
      }
    },
    {
      "cell_type": "code",
      "source": [
        "def get_url(url, ranges):\n",
        "  url = url\n",
        "  use_urls = []\n",
        "  #jsonに変換してurlを抽出\n",
        "  urls = requests.get(url)\n",
        "  texts = urls.text\n",
        "  data = json.loads(texts)\n",
        "  for i in range(ranges):\n",
        "    use_url = data[\"data\"][\"contents\"][i][\"noteUrl\"]\n",
        "    use_urls.append(use_url)\n",
        "  return use_urls"
      ],
      "metadata": {
        "id": "_S-xxf5E9AdJ"
      },
      "execution_count": 9,
      "outputs": []
    },
    {
      "cell_type": "code",
      "source": [
        "get_URL = get_url(\"https://note.com/api/v2/creators/seiburogu/contents?kind=note&disabled_pinned=false&with_notes=false&page=\",5)"
      ],
      "metadata": {
        "id": "KA4K9d8xF0Jg"
      },
      "execution_count": 10,
      "outputs": []
    },
    {
      "cell_type": "code",
      "source": [
        "get_URL"
      ],
      "metadata": {
        "colab": {
          "base_uri": "https://localhost:8080/"
        },
        "id": "LO-yVZ7RMazG",
        "outputId": "ffae2989-e45b-44c4-def9-e16e2fbf44e3"
      },
      "execution_count": 11,
      "outputs": [
        {
          "output_type": "execute_result",
          "data": {
            "text/plain": [
              "['https://note.com/seiburogu/n/n1519a2903270',\n",
              " 'https://note.com/seiburogu/n/n28876d75bf74',\n",
              " 'https://note.com/seiburogu/n/n02ead225cfcc',\n",
              " 'https://note.com/seiburogu/n/n8d7573cfb728',\n",
              " 'https://note.com/seiburogu/n/n82ea99511973']"
            ]
          },
          "metadata": {},
          "execution_count": 11
        }
      ]
    },
    {
      "cell_type": "code",
      "source": [
        "def cs_text(url):\n",
        "  all_url = url\n",
        "  for i in range(len(all_url)):\n",
        "    single_url = all_url[i]\n",
        "    response = requests.get(single_url)\n",
        "    response.text[:1000000]\n",
        "    soup = BeautifulSoup(response.text, 'html.parser')\n",
        "    for tag in soup.find_all(re.compile(\"^p\")):\n",
        "      print(tag.get_text())\n",
        "\n"
      ],
      "metadata": {
        "id": "vb8_28BUUIm2"
      },
      "execution_count": 12,
      "outputs": []
    },
    {
      "cell_type": "code",
      "source": [
        "cs_text(get_URL)"
      ],
      "metadata": {
        "colab": {
          "base_uri": "https://localhost:8080/"
        },
        "id": "iWj1mgub2aA8",
        "outputId": "d976572c-c819-41e4-a1fd-33806a1a2917"
      },
      "execution_count": 13,
      "outputs": [
        {
          "output_type": "stream",
          "name": "stdout",
          "text": [
            "\n",
            "\n",
            "おはようございますseiと申します\n",
            "９月の半ばに、ルームシェアをしようと考えていたのですが、書類を集めたり、友人と予定を合わしたり、審査が通るのか？等様々な問題が出てきて本当に出来るのか？と心が折れそうです。\n",
            "ですが、心が沸き上がるほど、楽しみでもあります。\n",
            "見ていただきありがとうございました。\n",
            "\n",
            "\n",
            "おはようございますseiと申します。しばらく投稿出来ず、申し訳ありませんでした。\n",
            "先日、賃貸物件をみてきたのですが、どの家もリフォームされており、綺麗でした。契約には移れていないのですが、準備することが多く、今から楽しみですね。\n",
            "\n",
            "\n",
            "\n",
            "はじめましておはようございます自称ミニマリストのseiと申します。\n",
            "２年年前私は物に時間や思考を奪われ、何も出来ない無い日々が続いていました。\n",
            "ある時、友人が何で物を捨てないの？と問いかけてきて、そのときの私は、「何でだ？」と言う疑問を抱えました。\n",
            "その日から、物を捨てる決意をしましたが、何から捨てて良いのかわからず、半年ほど同じ現状を保っておりました。\n",
            "ミニマリスト関連の動画を観ていたら、自分が「３ヶ月使用していない物は、捨てなさい」と言う言葉を信じ実行してみました。\n",
            "あっと言う間に、物が半分になりました。そのときは、達成感があり、その後２ヶ月、１ヶ月と期間を減らし最後には、必要な物しか残りませんでしたね。\n",
            "私は、物を増やさない為に１つの縛りを掛けました。それは、１つ物を購入したときは、１つ物を手放すという事をしました。\n",
            "あまりにも厳しいため、例外を設けました。自己投資に関することであれば、ある程度許容すると決めました。\n",
            "皆様もしてみてください\n",
            "本日は見ていただきありがとうございました。\n",
            "\n",
            "\n",
            "はじめましてこんばんはseiと申します。\n",
            "今年から私は、友達と何かスポーツを始めたいと思い筋トレを始めました。ですが、毎年筋トレをしていたのですが、二ヶ月と続ける事が出来ませんでした。\n",
            "今年も去年と同じように二ヶ月も続ける事が出来ないと思っておりましたが、筋トレは半年も続ける事ができて、かつ、ボルダリングを始めることが出来ました。\n",
            "結局何が言いたいかと言うと、覚悟と時間が無ければ、私は続ける事が出来ないと言うことが分かりました。\n",
            "続ける事によってデメリットとメリットが発生しました。\n",
            "①毎日二時間ボルダリングに時間が取られると言うこと②早い時間と残業を絶対にしないので、会社の人からは、白い目でみられる事③筋トレをする時間が無くなってしまう。\n",
            "①会社の方々と話のネタになる②継続していると言うことに自信が持てる③自分の成長を実感できる\n",
            "会社の方々には、若いのだからもっと遊ばないと等言われておりますが、十分楽しませて貰っております。\n",
            "まだまだしたいことが、たくさんありますがゆっくり消化していこうと思っております。\n",
            "本日は、見ていただきありがとうございました。\n",
            "\n",
            "        スキしてみて\n",
            "      \n",
            "\n",
            "          346,040件\n",
            "        \n",
            "\n",
            "\n",
            "  はじめましておはようございますseiと申します。\n",
            "世の中には、たくさんの種類の職業があります。私は、その中の一つに人生の大半を費やす事はしたいとは思いません。\n",
            "私が働いている仕事は今のまま続けていくと、40代以降になると辛くなる職業なので、役職を上げなければ辛くなる仕事です。役職が上がり責任感もある仕事はやりがいもありますが、残業などに時間が奪われるのは、私はどうしても許せないです。\n",
            "私は副業をすると言うことは、難しい事だと思いますが、環境等を整えれば可能だと思われます。\n",
            "私が希望する環境は、出勤せず、ネット関係を使い、あまり人と関わりの無い副業をしたいと考えています。\n",
            "甘いと言われそうですが、数多ある職業の中でマッチしないはずありません。\n",
            "私が副業をするなら最低このラインまでは、妥協せず行きたいですね。\n",
            "副業を育てる事は、凄く労力が要ることだと思います。ただ、手を止めてしまえばそれまでです。\n",
            "短期的には負けていても、長期的には、勝てば良いだけだと考えています。\n",
            "最後にですが、人生は、本当に短いですが楽しいと思えることは、心行くまで、やるべきだと思いますよ。\n",
            "本日は見ていただきありがとうございました\n",
            "\n",
            "        スキしてみて\n",
            "      \n",
            "\n",
            "          346,040件\n",
            "        \n"
          ]
        }
      ]
    },
    {
      "cell_type": "markdown",
      "source": [
        "関数化して適応"
      ],
      "metadata": {
        "id": "0-lDOnYKpTJm"
      }
    },
    {
      "cell_type": "code",
      "source": [
        "# url = \"seiburogu/n/n1519a2903270\"\n",
        "# for i in range(1, 5):\n",
        "#   cs_text(f\"{i}\")"
      ],
      "metadata": {
        "id": "YsTR8ZDxo8Xt"
      },
      "execution_count": 14,
      "outputs": []
    },
    {
      "cell_type": "markdown",
      "source": [
        "URLの指定"
      ],
      "metadata": {
        "id": "O_Mn_NN0wGQ-"
      }
    },
    {
      "cell_type": "markdown",
      "source": [
        "解析、テキスト取得"
      ],
      "metadata": {
        "id": "mOPlkXFKAysC"
      }
    },
    {
      "cell_type": "markdown",
      "source": [
        "pタグの中身だけを正規表現を使ってとってくる"
      ],
      "metadata": {
        "id": "2aLiffOLigzi"
      }
    },
    {
      "cell_type": "code",
      "source": [
        "# import re\n",
        "# for tag in soup.find_all(re.compile(\"^p\")):\n",
        "#     print(tag.get_text())"
      ],
      "metadata": {
        "id": "ve5IIk6OiR-Q"
      },
      "execution_count": 15,
      "outputs": []
    }
  ]
}