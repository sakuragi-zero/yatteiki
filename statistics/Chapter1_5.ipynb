{
  "nbformat": 4,
  "nbformat_minor": 0,
  "metadata": {
    "colab": {
      "name": "Chapter1-5.ipynb",
      "provenance": [],
      "collapsed_sections": [
        "krj_G1VapOo6",
        "rwC1CDQSNeQC",
        "P6NzRJegTYfl",
        "cbOTfeCBKe7S",
        "iBdsA3XvOdrU",
        "6ij6OtnRR1_P",
        "wEDtXHc4ZjtN",
        "ZasiiOtGreXz",
        "mHNrQcyjPA6J",
        "hcFQ8UFwez7W",
        "KdVFNRhVf_0N",
        "weeusG1SO5VJ",
        "MMoOL5_w3h0k",
        "JFB8Hgf3-olJ",
        "ilxcGrFcOvGg",
        "xcdRYkaOOarL",
        "mPP3bjRsOi58",
        "rWqdwrsncE7Y",
        "41uVilb1V8UD",
        "IOqHisnYOTZm",
        "lOVu9njExnoW",
        "DxNphSbcODmU",
        "FeUq8Mj_qhA9",
        "QJt5x6ror759",
        "3zfk7QnbysNL",
        "nOCusVTj5iPv",
        "aEojtqg16nzR",
        "BXb1zdyKAAl1"
      ],
      "authorship_tag": "ABX9TyNfmyOF8JxMYZPdrGJuZS8o",
      "include_colab_link": true
    },
    "kernelspec": {
      "name": "python3",
      "display_name": "Python 3"
    },
    "language_info": {
      "name": "python"
    }
  },
  "cells": [
    {
      "cell_type": "markdown",
      "metadata": {
        "id": "view-in-github",
        "colab_type": "text"
      },
      "source": [
        "<a href=\"https://colab.research.google.com/github/sakuragi-zero/yatteiki/blob/master/statistics/Chapter1_5.ipynb\" target=\"_parent\"><img src=\"https://colab.research.google.com/assets/colab-badge.svg\" alt=\"Open In Colab\"/></a>"
      ]
    },
    {
      "cell_type": "code",
      "source": [
        "! pip install -q japanize_matplotlib"
      ],
      "metadata": {
        "colab": {
          "base_uri": "https://localhost:8080/"
        },
        "id": "hC-x9K7r0SWo",
        "outputId": "2746d6fe-5858-4c2f-fd4a-fd11bcabf940"
      },
      "execution_count": null,
      "outputs": [
        {
          "output_type": "stream",
          "name": "stdout",
          "text": [
            "\u001b[K     |████████████████████████████████| 4.1 MB 19.6 MB/s \n",
            "\u001b[?25h  Building wheel for japanize-matplotlib (setup.py) ... \u001b[?25l\u001b[?25hdone\n"
          ]
        }
      ]
    },
    {
      "cell_type": "code",
      "source": [
        "import numpy as np\n",
        "import pandas as pd\n",
        "import seaborn as sns\n",
        "import matplotlib.pyplot as plt\n",
        "from sklearn.linear_model import LinearRegression\n",
        "from matplotlib.font_manager import FontProperties\n",
        "import japanize_matplotlib"
      ],
      "metadata": {
        "id": "GAeAKX-pcrCI"
      },
      "execution_count": null,
      "outputs": []
    },
    {
      "cell_type": "markdown",
      "source": [
        "# **Part1**：**データの種類とグラフ表現**  \n",
        "**この章での目標**  \n",
        "質的変数と量的変数の違いを理解する  \n",
        "質的変数の集計やグラフ表現を理解する  \n",
        "クロス集計を理解する  \n",
        "さまざまなグラフの特徴を理解し結果を解釈できる  \n",
        "分析の目的に合わせて適切なグラフを適応できる  \n",
        "時系列データの特徴を理解し、時間的な推移を理解できる  \n",
        "時系列データを適切にグラフに表すことができる  \n",
        "指数を用意て時系列データを解釈できる  "
      ],
      "metadata": {
        "id": "krj_G1VapOo6"
      }
    },
    {
      "cell_type": "markdown",
      "source": [
        "# データの種類  "
      ],
      "metadata": {
        "id": "rwC1CDQSNeQC"
      }
    },
    {
      "cell_type": "markdown",
      "source": [
        "**質的変数**：カテゴリー  \n",
        "名義尺度：カテゴリー間に順序がない  \n",
        "順序尺度：カテゴリー間に順序がある  \n",
        "**量的変数**：数値  \n",
        "間隔尺度：数値との間隔に意味がある、西暦など  \n",
        "比例尺度：数値を数式で導くことができる  \n",
        "**離散変数**：整数  \n",
        "**連続変数**：少数点込み  \n",
        "**多変量データ**：2つ以上の変数を同時に扱う。身長と体重の同時測定  \n",
        "**時系列データ**：1つの変数に対して時間の変化による数値の変化に注目する  \n",
        "**パネルデータ**：複数の同一個体(同じ条件下)を複数時点にわたって観測されたデータ  \n",
        "**クロスセクションデータ**：ある時点での異なるデータを横断的に集めたデータ  \n"
      ],
      "metadata": {
        "id": "H5RSTtqHOtSA"
      }
    },
    {
      "cell_type": "markdown",
      "source": [
        ""
      ],
      "metadata": {
        "id": "ogPuxRsYNqKw"
      }
    },
    {
      "cell_type": "markdown",
      "source": [
        "# 質的変数の要約  \n",
        "**度数、頻度**：それぞれのカテゴリに属する観測値の個数  \n",
        "**クロス集計**：複数の項目を組み合わせて集計する"
      ],
      "metadata": {
        "id": "P6NzRJegTYfl"
      }
    },
    {
      "cell_type": "code",
      "source": [
        "data = pd.DataFrame(data={\n",
        "  '支持政党': ['自民党','立憲民主党','公明党','共産党','日本維新の会','国民民主党','社民党','その他','支持なし','わからない・無回答','合計'],\n",
        "  '度数':     [689,    124,       99,    60,     47,          33,        10,     21,    812,      165,              2060]\n",
        "},\n",
        "index = ['自民党','立憲民主党','公明党','共産党','日本維新の会','国民民主党','社民党','その他','支持なし','わからない・無回答','合計'],\n",
        "columns = ['支持政党','度数'])\n",
        "df=data.style.hide_index()\n",
        "df\n",
        "#今回は後のグラフのことを考えてindexの指定とstyle.hide_indexを使用している"
      ],
      "metadata": {
        "colab": {
          "base_uri": "https://localhost:8080/",
          "height": 394
        },
        "id": "PRZEorTeufBz",
        "outputId": "178b29b4-384d-47e4-aba2-41c41f698365"
      },
      "execution_count": null,
      "outputs": [
        {
          "output_type": "execute_result",
          "data": {
            "text/plain": [
              "<pandas.io.formats.style.Styler at 0x7f9b42d26d10>"
            ],
            "text/html": [
              "<style type=\"text/css\">\n",
              "</style>\n",
              "<table id=\"T_6f923_\" class=\"dataframe\">\n",
              "  <thead>\n",
              "    <tr>\n",
              "      <th class=\"col_heading level0 col0\" >支持政党</th>\n",
              "      <th class=\"col_heading level0 col1\" >度数</th>\n",
              "    </tr>\n",
              "  </thead>\n",
              "  <tbody>\n",
              "    <tr>\n",
              "      <td id=\"T_6f923_row0_col0\" class=\"data row0 col0\" >自民党</td>\n",
              "      <td id=\"T_6f923_row0_col1\" class=\"data row0 col1\" >689</td>\n",
              "    </tr>\n",
              "    <tr>\n",
              "      <td id=\"T_6f923_row1_col0\" class=\"data row1 col0\" >立憲民主党</td>\n",
              "      <td id=\"T_6f923_row1_col1\" class=\"data row1 col1\" >124</td>\n",
              "    </tr>\n",
              "    <tr>\n",
              "      <td id=\"T_6f923_row2_col0\" class=\"data row2 col0\" >公明党</td>\n",
              "      <td id=\"T_6f923_row2_col1\" class=\"data row2 col1\" >99</td>\n",
              "    </tr>\n",
              "    <tr>\n",
              "      <td id=\"T_6f923_row3_col0\" class=\"data row3 col0\" >共産党</td>\n",
              "      <td id=\"T_6f923_row3_col1\" class=\"data row3 col1\" >60</td>\n",
              "    </tr>\n",
              "    <tr>\n",
              "      <td id=\"T_6f923_row4_col0\" class=\"data row4 col0\" >日本維新の会</td>\n",
              "      <td id=\"T_6f923_row4_col1\" class=\"data row4 col1\" >47</td>\n",
              "    </tr>\n",
              "    <tr>\n",
              "      <td id=\"T_6f923_row5_col0\" class=\"data row5 col0\" >国民民主党</td>\n",
              "      <td id=\"T_6f923_row5_col1\" class=\"data row5 col1\" >33</td>\n",
              "    </tr>\n",
              "    <tr>\n",
              "      <td id=\"T_6f923_row6_col0\" class=\"data row6 col0\" >社民党</td>\n",
              "      <td id=\"T_6f923_row6_col1\" class=\"data row6 col1\" >10</td>\n",
              "    </tr>\n",
              "    <tr>\n",
              "      <td id=\"T_6f923_row7_col0\" class=\"data row7 col0\" >その他</td>\n",
              "      <td id=\"T_6f923_row7_col1\" class=\"data row7 col1\" >21</td>\n",
              "    </tr>\n",
              "    <tr>\n",
              "      <td id=\"T_6f923_row8_col0\" class=\"data row8 col0\" >支持なし</td>\n",
              "      <td id=\"T_6f923_row8_col1\" class=\"data row8 col1\" >812</td>\n",
              "    </tr>\n",
              "    <tr>\n",
              "      <td id=\"T_6f923_row9_col0\" class=\"data row9 col0\" >わからない・無回答</td>\n",
              "      <td id=\"T_6f923_row9_col1\" class=\"data row9 col1\" >165</td>\n",
              "    </tr>\n",
              "    <tr>\n",
              "      <td id=\"T_6f923_row10_col0\" class=\"data row10 col0\" >合計</td>\n",
              "      <td id=\"T_6f923_row10_col1\" class=\"data row10 col1\" >2060</td>\n",
              "    </tr>\n",
              "  </tbody>\n",
              "</table>\n"
            ]
          },
          "metadata": {},
          "execution_count": 3
        }
      ]
    },
    {
      "cell_type": "code",
      "source": [
        "print(\"棒グラフ\")\n",
        "data[:10].plot.bar(\n",
        "  y='度数'\n",
        ")"
      ],
      "metadata": {
        "colab": {
          "base_uri": "https://localhost:8080/",
          "height": 381
        },
        "id": "uMOqcKk216lR",
        "outputId": "83222b68-5da3-4fae-abc2-97dce98fdc94"
      },
      "execution_count": null,
      "outputs": [
        {
          "output_type": "stream",
          "name": "stdout",
          "text": [
            "棒グラフ\n"
          ]
        },
        {
          "output_type": "execute_result",
          "data": {
            "text/plain": [
              "<matplotlib.axes._subplots.AxesSubplot at 0x7f9b430ffed0>"
            ]
          },
          "metadata": {},
          "execution_count": 4
        },
        {
          "output_type": "display_data",
          "data": {
            "text/plain": [
              "<Figure size 432x288 with 1 Axes>"
            ],
            "image/png": "[encoded data removed]"
          },
          "metadata": {
            "needs_background": "light"
          }
        }
      ]
    },
    {
      "cell_type": "markdown",
      "source": [
        "# グラフによるデータの集約  \n",
        "**幹葉図**：データの大きさnが小さい時に使われる。ヒストグラムを縦にした感じ  \n",
        "**棒グラフ**：量の大小を比較する。棒の高さでそれぞれのカテゴリの量を表す  \n",
        "**円グラフ**：それぞれのカテゴリの全体に対する割合を表す  \n",
        "**帯グラフ**：内容は円グラフと同じ。複数のグループを比較したい時に使う  \n",
        "**折線グラフ**：数量の時間的変化を表す  \n",
        "**レーダーチャート**：複数の値をまとめて表現する"
      ],
      "metadata": {
        "id": "cbOTfeCBKe7S"
      }
    },
    {
      "cell_type": "code",
      "source": [
        "data[:10].plot.pie(y='度数', figsize=(6, 6),ylabel='',fontsize=10,legend=False)#legend=Falseで凡例を消す"
      ],
      "metadata": {
        "colab": {
          "base_uri": "https://localhost:8080/",
          "height": 375
        },
        "id": "6TdUvrrcyqR5",
        "outputId": "7eec12f9-3a00-4187-ad66-84e8fc4f7ce2"
      },
      "execution_count": null,
      "outputs": [
        {
          "output_type": "execute_result",
          "data": {
            "text/plain": [
              "<matplotlib.axes._subplots.AxesSubplot at 0x7f9b4281c050>"
            ]
          },
          "metadata": {},
          "execution_count": 5
        },
        {
          "output_type": "display_data",
          "data": {
            "text/plain": [
              "<Figure size 432x432 with 1 Axes>"
            ],
            "image/png": "[encoded data removed]"
          },
          "metadata": {}
        }
      ]
    },
    {
      "cell_type": "markdown",
      "source": [
        "# グラフ表現の工夫と注意点  \n",
        "**雨温図**：気温を折線グラフで表し降水量を棒グラフで表す  \n",
        "**積み上げ棒グラフ**：地層に似たグラフ。複数のカテゴリを並べ各度数を縦に積み上げる  \n",
        "**複数の帯グラフ**：帯グラフを並べて比較する  \n",
        "**誤解を招きやすいグラフ表現**：目盛りの縦軸が0から始まっていない"
      ],
      "metadata": {
        "id": "iBdsA3XvOdrU"
      }
    },
    {
      "cell_type": "markdown",
      "source": [
        "# 時系列データの要約  \n",
        "**時系列データのグラフ表現**：折線グラフを使って表す  \n",
        "**変化率**：現時点の値 - 前時点の値 / 前時点の値  \n"
      ],
      "metadata": {
        "id": "6ij6OtnRR1_P"
      }
    },
    {
      "cell_type": "markdown",
      "source": [
        "# 時系列グラフ作成上の注意点\n",
        "**時間間隔に注意を払う**：時間の間隔によってグラフの見え方が違う  \n",
        "**時系列データに対数を利用する**：データを変換して対数変換する。縦軸を0〜300→0〜30  "
      ],
      "metadata": {
        "id": "wEDtXHc4ZjtN"
      }
    },
    {
      "cell_type": "markdown",
      "source": [
        "# **Part2**：量的変数の要約方法  \n",
        "**この章での目標**  \n",
        "連続的な量的変数について、度数分布表の作成と意味を理解する  \n",
        "ヒストグラムの作成方法と意味を理解する  \n",
        "度数分布やヒストグラムを用いて、分布の様子を調べる  \n",
        "相対度数と累積相対度数の関係を理解する  \n",
        "データの分布の特徴を表す5つの数値を求め分布を要約する  \n",
        "箱ひげ図で分布の情報を理解し、異なる集団の分布を比較する  \n",
        "データの散らばりの尺度を理解し、データの散らばりを把握する  \n"
      ],
      "metadata": {
        "id": "ZasiiOtGreXz"
      }
    },
    {
      "cell_type": "markdown",
      "source": [
        "# 度数分布表の作成  "
      ],
      "metadata": {
        "id": "mHNrQcyjPA6J"
      }
    },
    {
      "cell_type": "markdown",
      "source": [
        "**階級**：変数が取る値の範囲をグループ分けした、それぞれの区間  \n",
        "**階級の度数、頻度**：階級に含まれる観測値の個数  \n",
        "**度数分布**：階級ごとに度数を整理したもの  \n",
        "**度数分布表**：度数分布を表にしたもの  \n",
        "**階級の代表値、階級値**：各階級を代表する値、平均値や中央値などが多い  \n",
        "**相対度数**：各階級の度数の全体に対する割合。階級の度数 / 度数の合計  \n",
        "**累積相対度数**：度数または相対度数を小さい階級から合計して得られる  "
      ],
      "metadata": {
        "id": "7HFcTY6go8yD"
      }
    },
    {
      "cell_type": "markdown",
      "source": [
        "# ヒストグラムと度数分布多角形  \n",
        "**ヒストグラム**：度数分布をグラフ化する。面積が度数と比例する  "
      ],
      "metadata": {
        "id": "hcFQ8UFwez7W"
      }
    },
    {
      "cell_type": "markdown",
      "source": [
        "# 分布の特徴の把握  \n",
        "**正規分布**：左右対称の分布  \n",
        "**外れ値**：極端に大きい値や極端に小さな値  "
      ],
      "metadata": {
        "id": "KdVFNRhVf_0N"
      }
    },
    {
      "cell_type": "markdown",
      "source": [
        "# 分位数と5数要約  "
      ],
      "metadata": {
        "id": "weeusG1SO5VJ"
      }
    },
    {
      "cell_type": "markdown",
      "source": [
        "**分位数**：データを小さい順に並べ替えてデータの数で等分した時の区切りの値  \n",
        "**四分位数**：分位数を求める時に四等分する。第1四分位数(Q1)と表す  \n",
        "**累積度数分布**：度数を累積(積み上げて)100%に近づいていくグラフ  \n",
        "**5数要約**：最小値、最大値、第1四分位数、第2四分位数、第3四分位数  \n",
        "**第1四分位数**：第2四分位数から最小値までの範囲の中央値。**全体の25%**  \n",
        "**第2四分位数**：最小値から最大値までの範囲の中央値。**全体の50%**  \n",
        "**第3四分位数**：第2四分位数から最大値までの範囲の中央値。**全体の75%**  \n",
        "**四分位範囲**：第3四分位数 - 第1四分位数(Q3 - Q1)値が大きいほど観測値が散らばっている  "
      ],
      "metadata": {
        "id": "FmijLc6ayoKs"
      }
    },
    {
      "cell_type": "markdown",
      "source": [
        "# 箱ひげ図  \n",
        "**箱ひげ図**：5要約数を図にしたもの。四分位範囲が箱の形をしている  \n"
      ],
      "metadata": {
        "id": "MMoOL5_w3h0k"
      }
    },
    {
      "cell_type": "markdown",
      "source": [
        "# **Part3**：1変数データの分析 \n",
        "**この章での目標**  \n",
        "分布の位置を表す代表値の意味を理解する  \n",
        "3つの位置の代表値の適切な使い方を理解する  \n",
        "位置の代表値を用いて分布の様子を把握する  \n",
        "個々の観測値の散らばりの程度の概念を理解する  \n",
        "データの散らばりの程度を表す尺度を求める  \n",
        "散らばりの尺度を用いて分布の特徴を把握する  "
      ],
      "metadata": {
        "id": "JFB8Hgf3-olJ"
      }
    },
    {
      "cell_type": "markdown",
      "source": [
        "# 位置に関する代表値  "
      ],
      "metadata": {
        "id": "ilxcGrFcOvGg"
      }
    },
    {
      "cell_type": "markdown",
      "source": [
        "**平均値**：広く用いられる位置の代表値。外れ値の影響を受けやすい  \n",
        "$$\n",
        "\\bar{x}=\\frac{観測値の合計}{観測値の個数}=\\frac{x_1+x_2+x_3+x_n}{n}=\\frac{1}{n}=\\sum_{i=1}^n{x_i}\n",
        "$$\n",
        "**中央値**：観測値を大きい順に並べた時に真ん中に位置する観測値。  \n",
        "外れ値の影響を受けにくい。観測値が偶数の場合は真ん中2つの平均を取る  \n",
        "**最頻値**：最も頻繁に出現する値。最頻値はヒストグラムで最も高くなる  \n",
        "**3つの位置の代表値の大小関係**：右の裾が長い分布では最頻値＜中央値＜平均値  "
      ],
      "metadata": {
        "id": "uvF2vNYxA-qg"
      }
    },
    {
      "cell_type": "markdown",
      "source": [
        "**度数分布表からの平均値の計算**：個々の観測値を特定できず度数分布だけが  \n",
        "与えられた場合、平均値を求めたいことがある。  \n",
        "それぞれの階級で代表値 × 度数を計算し  \n",
        "その合計を度数の合計で割ったものを平均値とする  \n",
        "階級の数をk、各階級の代表値をm1,m2,m3...,度数をf1,f2,f3...  \n",
        "\n",
        "データの大きさは  \n",
        "$$\n",
        "n=f_1+f_2+f_3...+f_k=\\sum_{j=1}^k{f_j}\n",
        "$$  \n",
        "\n",
        "であり度数分布から求めた平均値は  \n",
        "$$\n",
        "\\frac{m_1f_1+m_2f_2+...+m_k}{n}=\\frac{\\displaystyle \\sum_{j=1}^k{m_jf_j}}{\\displaystyle \\sum_{j=1}^k{f_j}}\n",
        "$$  \n",
        "このようにして計算した平均値は個々の観測値が利用できる場合の平均値の近似である"
      ],
      "metadata": {
        "id": "w-fOvqDTZV13"
      }
    },
    {
      "cell_type": "markdown",
      "source": [
        "# 観測値の散らばりの尺度  "
      ],
      "metadata": {
        "id": "xcdRYkaOOarL"
      }
    },
    {
      "cell_type": "markdown",
      "source": [
        "**偏差**：平均からどれだけ離れているか。偏差の合計と平均は常に0  \n",
        "$$\n",
        "偏差=観測値-平均値={x_i}-\\bar{x}\n",
        "$$  \n",
        "**平均偏差**：データ全体の散らばりを考える時に偏差の絶対値の平均値を取る  \n",
        "$$\n",
        "\\frac{1}{n}\\sum_{i=1}^n{|x_i-\\bar{x}|}\n",
        "$$  \n",
        "**分散**：偏差を平方した値の平均値\n",
        "$$\n",
        "\\frac{1}{n}\\sum_{i=1}^n{(x_i-\\bar{x})^2}\n",
        "$$  \n",
        "**標準偏差**：分散では平均値とは単位が異なり解釈難しいので分散の正の平方根を取る  \n",
        "分散、標準偏差、平均偏差は範囲や四分位範囲と同様にデータの散らばりを表す"
      ],
      "metadata": {
        "id": "b0sX6PWMNFWE"
      }
    },
    {
      "cell_type": "markdown",
      "source": [
        "# 変数の変換と平均値、分散、標準偏差  "
      ],
      "metadata": {
        "id": "mPP3bjRsOi58"
      }
    },
    {
      "cell_type": "markdown",
      "source": [
        "**仮平均**：仮の平均値を置いてから正しい平均値を計算する  \n",
        "**偏差平方和**：分散をnで割らなかったもの。仮平均を使用する時に有効    \n",
        "**変数の標準化**：身長と体重など単位の異なる変数の  \n",
        "平均値や標準偏差を比較しても意味がない。  \n",
        "このような場合にデータの標準化を行い統一した基準で比較する  \n",
        "変数の標準化は各観測値xi、i=1...、nに対して処理を施しziを求める  \n",
        "$$\n",
        "{z_i}=\\frac{観測値-平均値}{標準偏差}=\\frac{x_i-\\bar{x}}{s}\n",
        "$$  \n",
        "標準化された値をzスコアという。 平均値は0、標準偏差は1の無名数になる  \n",
        "**変動係数**：平均値に対するデータとばらつきの関係を相対的に評価するための値のこと  \n",
        "単位を持たない無次元の数値  \n",
        "$$\n",
        "変動係数=\\frac{標準偏差}{平均値}\n",
        "$$  \n"
      ],
      "metadata": {
        "id": "75N5hBpmlB6H"
      }
    },
    {
      "cell_type": "markdown",
      "source": [
        "# 探索的データ解析法と外れ値  \n",
        "**EDA**：外れ値の影響を受けずらく、簡単な方法でデータを探索する手法  "
      ],
      "metadata": {
        "id": "rWqdwrsncE7Y"
      }
    },
    {
      "cell_type": "markdown",
      "source": [
        "# **Part4**：2変数データの分析  \n",
        "**この章での目標**\n",
        "2変数データの分析を理解する  \n",
        "2つの変数の関係を表や図を用いて表現することができる  \n",
        "2つの変数の相関関係を数式で表現することができる  \n",
        "散布図と相関関係の関係を理解する  \n",
        "相関関係を正しく用いることができる  "
      ],
      "metadata": {
        "id": "41uVilb1V8UD"
      }
    },
    {
      "cell_type": "markdown",
      "source": [
        "# 2つの変数の関係  "
      ],
      "metadata": {
        "id": "IOqHisnYOTZm"
      }
    },
    {
      "cell_type": "markdown",
      "source": [
        "**質的変数の場合**：**多重クロス集計表**を使う。1変数では見えなかった特徴を検出できる  \n",
        "**量的変数**：散布図を使う。x軸が身長y軸が体重  \n",
        "**正の相関関係**：片方の変数の値が増えた時にもう片方の変数の値が増える。右肩上がり  \n",
        "**負の相関関係**：片方の変数の値が増えた時にもう片方の変数の値が減る。左肩上がり  \n",
        "**無相関**：直線的な関係は見て取れない。中心に集まっているか疎ら  \n",
        "**相関関係の強さ**：直線に近いと直線  \n",
        "**同時分布**：表にした時の変数間のデータの部分  \n",
        "**周辺分布**：表にした時の列方向または行方向の各、変数の合計  "
      ],
      "metadata": {
        "id": "XSs_01p9Zq3h"
      }
    },
    {
      "cell_type": "code",
      "source": [
        "#クロス集計\n",
        "print(\"多重クロス集計表\")\n",
        "store_data = pd.DataFrame({\n",
        "    '商品イ': [25, 5, 0, 0, 30 ],\n",
        "    '商品ロ': [0, 28, 11, 0, 39],\n",
        "    '商品ハ': [2, 0, 12, 17, 31],\n",
        "    '合計': [27, 33, 23, 17, 100],\n",
        "},\n",
        "index = ['A地区', 'B地区', 'C地区', 'D地区', '合計'],\n",
        ")\n",
        "store_data"
      ],
      "metadata": {
        "colab": {
          "base_uri": "https://localhost:8080/",
          "height": 224
        },
        "id": "UEVfQYdDIigI",
        "outputId": "67736965-d457-49ed-a573-cd552f9e8f9e"
      },
      "execution_count": null,
      "outputs": [
        {
          "output_type": "stream",
          "name": "stdout",
          "text": [
            "多重クロス集計表\n"
          ]
        },
        {
          "output_type": "execute_result",
          "data": {
            "text/plain": [
              "     商品イ  商品ロ  商品ハ   合計\n",
              "A地区   25    0    2   27\n",
              "B地区    5   28    0   33\n",
              "C地区    0   11   12   23\n",
              "D地区    0    0   17   17\n",
              "合計    30   39   31  100"
            ],
            "text/html": [
              "\n",
              "  <div id=\"df-a62ebeb2-d1a8-4ac0-90fa-4f387cc969b3\">\n",
              "    <div class=\"colab-df-container\">\n",
              "      <div>\n",
              "<style scoped>\n",
              "    .dataframe tbody tr th:only-of-type {\n",
              "        vertical-align: middle;\n",
              "    }\n",
              "\n",
              "    .dataframe tbody tr th {\n",
              "        vertical-align: top;\n",
              "    }\n",
              "\n",
              "    .dataframe thead th {\n",
              "        text-align: right;\n",
              "    }\n",
              "</style>\n",
              "<table border=\"1\" class=\"dataframe\">\n",
              "  <thead>\n",
              "    <tr style=\"text-align: right;\">\n",
              "      <th></th>\n",
              "      <th>商品イ</th>\n",
              "      <th>商品ロ</th>\n",
              "      <th>商品ハ</th>\n",
              "      <th>合計</th>\n",
              "    </tr>\n",
              "  </thead>\n",
              "  <tbody>\n",
              "    <tr>\n",
              "      <th>A地区</th>\n",
              "      <td>25</td>\n",
              "      <td>0</td>\n",
              "      <td>2</td>\n",
              "      <td>27</td>\n",
              "    </tr>\n",
              "    <tr>\n",
              "      <th>B地区</th>\n",
              "      <td>5</td>\n",
              "      <td>28</td>\n",
              "      <td>0</td>\n",
              "      <td>33</td>\n",
              "    </tr>\n",
              "    <tr>\n",
              "      <th>C地区</th>\n",
              "      <td>0</td>\n",
              "      <td>11</td>\n",
              "      <td>12</td>\n",
              "      <td>23</td>\n",
              "    </tr>\n",
              "    <tr>\n",
              "      <th>D地区</th>\n",
              "      <td>0</td>\n",
              "      <td>0</td>\n",
              "      <td>17</td>\n",
              "      <td>17</td>\n",
              "    </tr>\n",
              "    <tr>\n",
              "      <th>合計</th>\n",
              "      <td>30</td>\n",
              "      <td>39</td>\n",
              "      <td>31</td>\n",
              "      <td>100</td>\n",
              "    </tr>\n",
              "  </tbody>\n",
              "</table>\n",
              "</div>\n",
              "      <button class=\"colab-df-convert\" onclick=\"convertToInteractive('df-a62ebeb2-d1a8-4ac0-90fa-4f387cc969b3')\"\n",
              "              title=\"Convert this dataframe to an interactive table.\"\n",
              "              style=\"display:none;\">\n",
              "        \n",
              "  <svg xmlns=\"http://www.w3.org/2000/svg\" height=\"24px\"viewBox=\"0 0 24 24\"\n",
              "       width=\"24px\">\n",
              "    <path d=\"M0 0h24v24H0V0z\" fill=\"none\"/>\n",
              "    <path d=\"M18.56 5.44l.94 2.06.94-2.06 2.06-.94-2.06-.94-.94-2.06-.94 2.06-2.06.94zm-11 1L8.5 8.5l.94-2.06 2.06-.94-2.06-.94L8.5 2.5l-.94 2.06-2.06.94zm10 10l.94 2.06.94-2.06 2.06-.94-2.06-.94-.94-2.06-.94 2.06-2.06.94z\"/><path d=\"M17.41 7.96l-1.37-1.37c-.4-.4-.92-.59-1.43-.59-.52 0-1.04.2-1.43.59L10.3 9.45l-7.72 7.72c-.78.78-.78 2.05 0 2.83L4 21.41c.39.39.9.59 1.41.59.51 0 1.02-.2 1.41-.59l7.78-7.78 2.81-2.81c.8-.78.8-2.07 0-2.86zM5.41 20L4 18.59l7.72-7.72 1.47 1.35L5.41 20z\"/>\n",
              "  </svg>\n",
              "      </button>\n",
              "      \n",
              "  <style>\n",
              "    .colab-df-container {\n",
              "      display:flex;\n",
              "      flex-wrap:wrap;\n",
              "      gap: 12px;\n",
              "    }\n",
              "\n",
              "    .colab-df-convert {\n",
              "      background-color: #E8F0FE;\n",
              "      border: none;\n",
              "      border-radius: 50%;\n",
              "      cursor: pointer;\n",
              "      display: none;\n",
              "      fill: #1967D2;\n",
              "      height: 32px;\n",
              "      padding: 0 0 0 0;\n",
              "      width: 32px;\n",
              "    }\n",
              "\n",
              "    .colab-df-convert:hover {\n",
              "      background-color: #E2EBFA;\n",
              "      box-shadow: 0px 1px 2px rgba(60, 64, 67, 0.3), 0px 1px 3px 1px rgba(60, 64, 67, 0.15);\n",
              "      fill: #174EA6;\n",
              "    }\n",
              "\n",
              "    [theme=dark] .colab-df-convert {\n",
              "      background-color: #3B4455;\n",
              "      fill: #D2E3FC;\n",
              "    }\n",
              "\n",
              "    [theme=dark] .colab-df-convert:hover {\n",
              "      background-color: #434B5C;\n",
              "      box-shadow: 0px 1px 3px 1px rgba(0, 0, 0, 0.15);\n",
              "      filter: drop-shadow(0px 1px 2px rgba(0, 0, 0, 0.3));\n",
              "      fill: #FFFFFF;\n",
              "    }\n",
              "  </style>\n",
              "\n",
              "      <script>\n",
              "        const buttonEl =\n",
              "          document.querySelector('#df-a62ebeb2-d1a8-4ac0-90fa-4f387cc969b3 button.colab-df-convert');\n",
              "        buttonEl.style.display =\n",
              "          google.colab.kernel.accessAllowed ? 'block' : 'none';\n",
              "\n",
              "        async function convertToInteractive(key) {\n",
              "          const element = document.querySelector('#df-a62ebeb2-d1a8-4ac0-90fa-4f387cc969b3');\n",
              "          const dataTable =\n",
              "            await google.colab.kernel.invokeFunction('convertToInteractive',\n",
              "                                                     [key], {});\n",
              "          if (!dataTable) return;\n",
              "\n",
              "          const docLinkHtml = 'Like what you see? Visit the ' +\n",
              "            '<a target=\"_blank\" href=https://colab.research.google.com/notebooks/data_table.ipynb>data table notebook</a>'\n",
              "            + ' to learn more about interactive tables.';\n",
              "          element.innerHTML = '';\n",
              "          dataTable['output_type'] = 'display_data';\n",
              "          await google.colab.output.renderOutput(dataTable, element);\n",
              "          const docLink = document.createElement('div');\n",
              "          docLink.innerHTML = docLinkHtml;\n",
              "          element.appendChild(docLink);\n",
              "        }\n",
              "      </script>\n",
              "    </div>\n",
              "  </div>\n",
              "  "
            ]
          },
          "metadata": {},
          "execution_count": 6
        }
      ]
    },
    {
      "cell_type": "markdown",
      "source": [
        "# 層別散布図  \n",
        "**層別散布図**：変数ごとに記号を変えて散布図を描画したもの  "
      ],
      "metadata": {
        "id": "lOVu9njExnoW"
      }
    },
    {
      "cell_type": "code",
      "source": [
        "# 層別散布図\n",
        "print(\"層別散布図\")\n",
        "savings_data = pd.DataFrame({\n",
        "    '貯蓄(万円)': [1355, 1614, 1693, 2293, 1832, 2118, 2342, 1766, 1802, 1764, 1863, 2158, 2389, 1801],\n",
        "    '有価証券(万円)': [240, 259, 230, 366, 368, 499, 683, 349, 331, 388, 342, 511, 554, 325],\n",
        "    '地区': ['関東', '関東', '関東', '関東', '関東', '関東', '関東', '関西', '関西', '関西', '関西', '関西', '関西', '関西']\n",
        "},\n",
        "index = ['水戸市', '宇都宮市', '前橋市', 'さいたま市', '千葉市', '東京都区部', '横浜市', '津市', '大津市', '京都市', '大阪市', '神戸市', '奈良市', '和歌山市'],\n",
        ")\n",
        "savings_data"
      ],
      "metadata": {
        "colab": {
          "base_uri": "https://localhost:8080/",
          "height": 506
        },
        "id": "i9DJFQIAYrag",
        "outputId": "bcebabe2-0a12-4c0c-9cf6-263ead72e79f"
      },
      "execution_count": null,
      "outputs": [
        {
          "output_type": "stream",
          "name": "stdout",
          "text": [
            "層別散布図\n"
          ]
        },
        {
          "output_type": "execute_result",
          "data": {
            "text/plain": [
              "       貯蓄(万円)  有価証券(万円)  地区\n",
              "水戸市      1355       240  関東\n",
              "宇都宮市     1614       259  関東\n",
              "前橋市      1693       230  関東\n",
              "さいたま市    2293       366  関東\n",
              "千葉市      1832       368  関東\n",
              "東京都区部    2118       499  関東\n",
              "横浜市      2342       683  関東\n",
              "津市       1766       349  関西\n",
              "大津市      1802       331  関西\n",
              "京都市      1764       388  関西\n",
              "大阪市      1863       342  関西\n",
              "神戸市      2158       511  関西\n",
              "奈良市      2389       554  関西\n",
              "和歌山市     1801       325  関西"
            ],
            "text/html": [
              "\n",
              "  <div id=\"df-f1d1a9f6-81c3-471c-8370-cd20704a5c6c\">\n",
              "    <div class=\"colab-df-container\">\n",
              "      <div>\n",
              "<style scoped>\n",
              "    .dataframe tbody tr th:only-of-type {\n",
              "        vertical-align: middle;\n",
              "    }\n",
              "\n",
              "    .dataframe tbody tr th {\n",
              "        vertical-align: top;\n",
              "    }\n",
              "\n",
              "    .dataframe thead th {\n",
              "        text-align: right;\n",
              "    }\n",
              "</style>\n",
              "<table border=\"1\" class=\"dataframe\">\n",
              "  <thead>\n",
              "    <tr style=\"text-align: right;\">\n",
              "      <th></th>\n",
              "      <th>貯蓄(万円)</th>\n",
              "      <th>有価証券(万円)</th>\n",
              "      <th>地区</th>\n",
              "    </tr>\n",
              "  </thead>\n",
              "  <tbody>\n",
              "    <tr>\n",
              "      <th>水戸市</th>\n",
              "      <td>1355</td>\n",
              "      <td>240</td>\n",
              "      <td>関東</td>\n",
              "    </tr>\n",
              "    <tr>\n",
              "      <th>宇都宮市</th>\n",
              "      <td>1614</td>\n",
              "      <td>259</td>\n",
              "      <td>関東</td>\n",
              "    </tr>\n",
              "    <tr>\n",
              "      <th>前橋市</th>\n",
              "      <td>1693</td>\n",
              "      <td>230</td>\n",
              "      <td>関東</td>\n",
              "    </tr>\n",
              "    <tr>\n",
              "      <th>さいたま市</th>\n",
              "      <td>2293</td>\n",
              "      <td>366</td>\n",
              "      <td>関東</td>\n",
              "    </tr>\n",
              "    <tr>\n",
              "      <th>千葉市</th>\n",
              "      <td>1832</td>\n",
              "      <td>368</td>\n",
              "      <td>関東</td>\n",
              "    </tr>\n",
              "    <tr>\n",
              "      <th>東京都区部</th>\n",
              "      <td>2118</td>\n",
              "      <td>499</td>\n",
              "      <td>関東</td>\n",
              "    </tr>\n",
              "    <tr>\n",
              "      <th>横浜市</th>\n",
              "      <td>2342</td>\n",
              "      <td>683</td>\n",
              "      <td>関東</td>\n",
              "    </tr>\n",
              "    <tr>\n",
              "      <th>津市</th>\n",
              "      <td>1766</td>\n",
              "      <td>349</td>\n",
              "      <td>関西</td>\n",
              "    </tr>\n",
              "    <tr>\n",
              "      <th>大津市</th>\n",
              "      <td>1802</td>\n",
              "      <td>331</td>\n",
              "      <td>関西</td>\n",
              "    </tr>\n",
              "    <tr>\n",
              "      <th>京都市</th>\n",
              "      <td>1764</td>\n",
              "      <td>388</td>\n",
              "      <td>関西</td>\n",
              "    </tr>\n",
              "    <tr>\n",
              "      <th>大阪市</th>\n",
              "      <td>1863</td>\n",
              "      <td>342</td>\n",
              "      <td>関西</td>\n",
              "    </tr>\n",
              "    <tr>\n",
              "      <th>神戸市</th>\n",
              "      <td>2158</td>\n",
              "      <td>511</td>\n",
              "      <td>関西</td>\n",
              "    </tr>\n",
              "    <tr>\n",
              "      <th>奈良市</th>\n",
              "      <td>2389</td>\n",
              "      <td>554</td>\n",
              "      <td>関西</td>\n",
              "    </tr>\n",
              "    <tr>\n",
              "      <th>和歌山市</th>\n",
              "      <td>1801</td>\n",
              "      <td>325</td>\n",
              "      <td>関西</td>\n",
              "    </tr>\n",
              "  </tbody>\n",
              "</table>\n",
              "</div>\n",
              "      <button class=\"colab-df-convert\" onclick=\"convertToInteractive('df-f1d1a9f6-81c3-471c-8370-cd20704a5c6c')\"\n",
              "              title=\"Convert this dataframe to an interactive table.\"\n",
              "              style=\"display:none;\">\n",
              "        \n",
              "  <svg xmlns=\"http://www.w3.org/2000/svg\" height=\"24px\"viewBox=\"0 0 24 24\"\n",
              "       width=\"24px\">\n",
              "    <path d=\"M0 0h24v24H0V0z\" fill=\"none\"/>\n",
              "    <path d=\"M18.56 5.44l.94 2.06.94-2.06 2.06-.94-2.06-.94-.94-2.06-.94 2.06-2.06.94zm-11 1L8.5 8.5l.94-2.06 2.06-.94-2.06-.94L8.5 2.5l-.94 2.06-2.06.94zm10 10l.94 2.06.94-2.06 2.06-.94-2.06-.94-.94-2.06-.94 2.06-2.06.94z\"/><path d=\"M17.41 7.96l-1.37-1.37c-.4-.4-.92-.59-1.43-.59-.52 0-1.04.2-1.43.59L10.3 9.45l-7.72 7.72c-.78.78-.78 2.05 0 2.83L4 21.41c.39.39.9.59 1.41.59.51 0 1.02-.2 1.41-.59l7.78-7.78 2.81-2.81c.8-.78.8-2.07 0-2.86zM5.41 20L4 18.59l7.72-7.72 1.47 1.35L5.41 20z\"/>\n",
              "  </svg>\n",
              "      </button>\n",
              "      \n",
              "  <style>\n",
              "    .colab-df-container {\n",
              "      display:flex;\n",
              "      flex-wrap:wrap;\n",
              "      gap: 12px;\n",
              "    }\n",
              "\n",
              "    .colab-df-convert {\n",
              "      background-color: #E8F0FE;\n",
              "      border: none;\n",
              "      border-radius: 50%;\n",
              "      cursor: pointer;\n",
              "      display: none;\n",
              "      fill: #1967D2;\n",
              "      height: 32px;\n",
              "      padding: 0 0 0 0;\n",
              "      width: 32px;\n",
              "    }\n",
              "\n",
              "    .colab-df-convert:hover {\n",
              "      background-color: #E2EBFA;\n",
              "      box-shadow: 0px 1px 2px rgba(60, 64, 67, 0.3), 0px 1px 3px 1px rgba(60, 64, 67, 0.15);\n",
              "      fill: #174EA6;\n",
              "    }\n",
              "\n",
              "    [theme=dark] .colab-df-convert {\n",
              "      background-color: #3B4455;\n",
              "      fill: #D2E3FC;\n",
              "    }\n",
              "\n",
              "    [theme=dark] .colab-df-convert:hover {\n",
              "      background-color: #434B5C;\n",
              "      box-shadow: 0px 1px 3px 1px rgba(0, 0, 0, 0.15);\n",
              "      filter: drop-shadow(0px 1px 2px rgba(0, 0, 0, 0.3));\n",
              "      fill: #FFFFFF;\n",
              "    }\n",
              "  </style>\n",
              "\n",
              "      <script>\n",
              "        const buttonEl =\n",
              "          document.querySelector('#df-f1d1a9f6-81c3-471c-8370-cd20704a5c6c button.colab-df-convert');\n",
              "        buttonEl.style.display =\n",
              "          google.colab.kernel.accessAllowed ? 'block' : 'none';\n",
              "\n",
              "        async function convertToInteractive(key) {\n",
              "          const element = document.querySelector('#df-f1d1a9f6-81c3-471c-8370-cd20704a5c6c');\n",
              "          const dataTable =\n",
              "            await google.colab.kernel.invokeFunction('convertToInteractive',\n",
              "                                                     [key], {});\n",
              "          if (!dataTable) return;\n",
              "\n",
              "          const docLinkHtml = 'Like what you see? Visit the ' +\n",
              "            '<a target=\"_blank\" href=https://colab.research.google.com/notebooks/data_table.ipynb>data table notebook</a>'\n",
              "            + ' to learn more about interactive tables.';\n",
              "          element.innerHTML = '';\n",
              "          dataTable['output_type'] = 'display_data';\n",
              "          await google.colab.output.renderOutput(dataTable, element);\n",
              "          const docLink = document.createElement('div');\n",
              "          docLink.innerHTML = docLinkHtml;\n",
              "          element.appendChild(docLink);\n",
              "        }\n",
              "      </script>\n",
              "    </div>\n",
              "  </div>\n",
              "  "
            ]
          },
          "metadata": {},
          "execution_count": 7
        }
      ]
    },
    {
      "cell_type": "code",
      "source": [
        "print(\"層別散布図例\")\n",
        "plt.xlim(0, 3000)\n",
        "plt.ylim(0, 800)\n",
        "sns.scatterplot(x = '貯蓄(万円)', y = '有価証券(万円)', hue='地区', data = savings_data) "
      ],
      "metadata": {
        "colab": {
          "base_uri": "https://localhost:8080/",
          "height": 318
        },
        "id": "3s6u-7SJlhiW",
        "outputId": "c84b67e8-a269-4a44-d174-601eb0c65102"
      },
      "execution_count": null,
      "outputs": [
        {
          "output_type": "stream",
          "name": "stdout",
          "text": [
            "層別散布図例\n"
          ]
        },
        {
          "output_type": "execute_result",
          "data": {
            "text/plain": [
              "<matplotlib.axes._subplots.AxesSubplot at 0x7f9b44173b10>"
            ]
          },
          "metadata": {},
          "execution_count": 8
        },
        {
          "output_type": "display_data",
          "data": {
            "text/plain": [
              "<Figure size 432x288 with 1 Axes>"
            ],
            "image/png": "[encoded data removed]"
          },
          "metadata": {
            "needs_background": "light"
          }
        }
      ]
    },
    {
      "cell_type": "markdown",
      "source": [
        "# 相関係数  "
      ],
      "metadata": {
        "id": "DxNphSbcODmU"
      }
    },
    {
      "cell_type": "markdown",
      "source": [
        "**共分散**：2変数の関係の強さを測る指標  \n",
        "x,yの観測値の組からなるデータを(x1,y2),...(xn,yn)として  \n",
        "2変数の共分散Sxyは以下の式で定義される  \n",
        "2変数それぞれの偏差を求め2変数を掛け合わせて総和をとり観測値のn個で割る  \n",
        "共分散の**値が正なら**正の相関関係  \n",
        "共分散の**値が負なら**負の相関関係  \n",
        "共分散の**値が0に近いなら**無相関\n",
        "**注意点**：変数の単位の影響を受けてしまう。正の相関が無相関になったりする\n",
        "$$\n",
        "Sxy=\\frac{1}{n}\n",
        "\\sum_{i=1}^n{(x_i-\\bar{x})}{(y_1-\\bar{y})}\n",
        "$$  \n",
        "**相関係数**：標準偏差を求めることで単位の影響を受けずに相関関係を見つける  \n",
        "xの標準偏差をSx,yの標準偏差をSyとし相関係数rを以下の式で定義する  \n",
        "$$\n",
        "r=\\frac{\n",
        "  \\frac{1}{n}\n",
        "\\sum_{i=1}^n{(x_i-\\bar{x})}{(y_1-\\bar{y})}\n",
        "}\n",
        "{\n",
        "\\sqrt{\\frac{1}{n}\\sum_{i=1}^n{(x_i-\\bar{x})^2}}\n",
        "\\sqrt{\\frac{1}{n}\\sum_{i=1}^n{(y_i-\\bar{y})^2}}\n",
        "}\n",
        "=\\frac{Sxy}{SxSy}\n",
        "$$  \n",
        "$$\n",
        "相関係数=\\frac{共分散}{xy標準偏差}\n",
        "$$"
      ],
      "metadata": {
        "id": "jVvCbENiycTr"
      }
    },
    {
      "cell_type": "markdown",
      "source": [
        "# 相関係数の注意点  "
      ],
      "metadata": {
        "id": "FeUq8Mj_qhA9"
      }
    },
    {
      "cell_type": "markdown",
      "source": [
        "**相関係数の注意点**：相関係数の値だけで2変数の関係を判断するのはダメ  \n",
        "相関係数は直線的な関係を測る尺度であり2変数間の関係は必ずしも直線とは限らない  \n",
        "**外れ値と相関関係**：データに外れ値がある場合は注意が必要。外れ値だけで係数が変動する  "
      ],
      "metadata": {
        "id": "DQNm5atXqEqV"
      }
    },
    {
      "cell_type": "markdown",
      "source": [
        "# 相関と因果  "
      ],
      "metadata": {
        "id": "QJt5x6ror759"
      }
    },
    {
      "cell_type": "markdown",
      "source": [
        "**因果関係**：原因と結果の関係。原因→結果(矢印は一方方向)  \n",
        "**相関関係**：要素と要素がお互いに関係しあっている。要素→←要素(矢印は双方向)  \n",
        "**相関関係の中に因果関係？**：相関関係の中に因果関係があるわけではない。  \n",
        "お互いに関係しあっていても原因と結果の関係が必ず成り立つわけではない  \n",
        "**偽相関**：2変数x,y両方に影響を与える第3の変数zがあり  \n",
        "zのおかげでxとyの相関関係が成り立つ状況  \n"
      ],
      "metadata": {
        "id": "-yYyfriosEoM"
      }
    },
    {
      "cell_type": "markdown",
      "source": [
        "# **Part5**：回帰直線と予測  \n",
        "# この章での目的  \n",
        "説明変数と被説明変数を区別する  \n",
        "回帰直線を用意て予測する  \n",
        "最小二乗法の考え方を理解する  \n",
        "回帰直線と相関係数の関係を理解する  \n",
        "適切に回帰直線を用いる  "
      ],
      "metadata": {
        "id": "yLReJ10hwkgI"
      }
    },
    {
      "cell_type": "markdown",
      "source": [
        "# 回帰分析  "
      ],
      "metadata": {
        "id": "3zfk7QnbysNL"
      }
    },
    {
      "cell_type": "markdown",
      "source": [
        "**回帰分析**：変数xから変数yを予測すること  \n",
        "**説明変数**：予測対象の元となるデータ。ここでは変数yを予測するのでxが説明変数    \n",
        "**目的変数(被説明変数)**：予測対象。ここでは変数y  \n",
        "**回帰直線**：直線の式\n",
        "$$\n",
        "y=\\alpha+\\beta x\n",
        "$$  \n",
        "この時のアルファとベータを**回帰係数**という  \n",
        "**推定値**： 直線の式から求めたアルファとベータの値  \n",
        "**予測値**：推定値を使って導き出された値  \n"
      ],
      "metadata": {
        "id": "3vVcg9A1y-s5"
      }
    },
    {
      "cell_type": "code",
      "source": [
        "weight_data = pd.DataFrame({\n",
        "    '回数': [1, 2, 3, 4, 5, 6, 7, 8, 9, 10],\n",
        "    'おもりの重さx(g)': [6, 8, 12, 14, 18, 20, 24, 26, 30, 32],\n",
        "    'バネの長さy(mm)': [119, 145, 175, 191, 204, 209, 244, 233, 272, 268],\n",
        "},\n",
        "index = None\n",
        ")\n",
        "weight_data=weight_data.style.hide_index()#インデックスを隠す上手くプロットできない\n",
        "print(\"おもりの重さとバネの長さ\")\n",
        "weight_data"
      ],
      "metadata": {
        "colab": {
          "base_uri": "https://localhost:8080/",
          "height": 381
        },
        "id": "30eE9d6OQy57",
        "outputId": "00d54962-b834-4de0-92c8-636e410fa2aa"
      },
      "execution_count": null,
      "outputs": [
        {
          "output_type": "stream",
          "name": "stdout",
          "text": [
            "おもりの重さとバネの長さ\n"
          ]
        },
        {
          "output_type": "execute_result",
          "data": {
            "text/plain": [
              "<pandas.io.formats.style.Styler at 0x7f9b422a9a10>"
            ],
            "text/html": [
              "<style type=\"text/css\">\n",
              "</style>\n",
              "<table id=\"T_4cd2e_\" class=\"dataframe\">\n",
              "  <thead>\n",
              "    <tr>\n",
              "      <th class=\"col_heading level0 col0\" >回数</th>\n",
              "      <th class=\"col_heading level0 col1\" >おもりの重さx(g)</th>\n",
              "      <th class=\"col_heading level0 col2\" >バネの長さy(mm)</th>\n",
              "    </tr>\n",
              "  </thead>\n",
              "  <tbody>\n",
              "    <tr>\n",
              "      <td id=\"T_4cd2e_row0_col0\" class=\"data row0 col0\" >1</td>\n",
              "      <td id=\"T_4cd2e_row0_col1\" class=\"data row0 col1\" >6</td>\n",
              "      <td id=\"T_4cd2e_row0_col2\" class=\"data row0 col2\" >119</td>\n",
              "    </tr>\n",
              "    <tr>\n",
              "      <td id=\"T_4cd2e_row1_col0\" class=\"data row1 col0\" >2</td>\n",
              "      <td id=\"T_4cd2e_row1_col1\" class=\"data row1 col1\" >8</td>\n",
              "      <td id=\"T_4cd2e_row1_col2\" class=\"data row1 col2\" >145</td>\n",
              "    </tr>\n",
              "    <tr>\n",
              "      <td id=\"T_4cd2e_row2_col0\" class=\"data row2 col0\" >3</td>\n",
              "      <td id=\"T_4cd2e_row2_col1\" class=\"data row2 col1\" >12</td>\n",
              "      <td id=\"T_4cd2e_row2_col2\" class=\"data row2 col2\" >175</td>\n",
              "    </tr>\n",
              "    <tr>\n",
              "      <td id=\"T_4cd2e_row3_col0\" class=\"data row3 col0\" >4</td>\n",
              "      <td id=\"T_4cd2e_row3_col1\" class=\"data row3 col1\" >14</td>\n",
              "      <td id=\"T_4cd2e_row3_col2\" class=\"data row3 col2\" >191</td>\n",
              "    </tr>\n",
              "    <tr>\n",
              "      <td id=\"T_4cd2e_row4_col0\" class=\"data row4 col0\" >5</td>\n",
              "      <td id=\"T_4cd2e_row4_col1\" class=\"data row4 col1\" >18</td>\n",
              "      <td id=\"T_4cd2e_row4_col2\" class=\"data row4 col2\" >204</td>\n",
              "    </tr>\n",
              "    <tr>\n",
              "      <td id=\"T_4cd2e_row5_col0\" class=\"data row5 col0\" >6</td>\n",
              "      <td id=\"T_4cd2e_row5_col1\" class=\"data row5 col1\" >20</td>\n",
              "      <td id=\"T_4cd2e_row5_col2\" class=\"data row5 col2\" >209</td>\n",
              "    </tr>\n",
              "    <tr>\n",
              "      <td id=\"T_4cd2e_row6_col0\" class=\"data row6 col0\" >7</td>\n",
              "      <td id=\"T_4cd2e_row6_col1\" class=\"data row6 col1\" >24</td>\n",
              "      <td id=\"T_4cd2e_row6_col2\" class=\"data row6 col2\" >244</td>\n",
              "    </tr>\n",
              "    <tr>\n",
              "      <td id=\"T_4cd2e_row7_col0\" class=\"data row7 col0\" >8</td>\n",
              "      <td id=\"T_4cd2e_row7_col1\" class=\"data row7 col1\" >26</td>\n",
              "      <td id=\"T_4cd2e_row7_col2\" class=\"data row7 col2\" >233</td>\n",
              "    </tr>\n",
              "    <tr>\n",
              "      <td id=\"T_4cd2e_row8_col0\" class=\"data row8 col0\" >9</td>\n",
              "      <td id=\"T_4cd2e_row8_col1\" class=\"data row8 col1\" >30</td>\n",
              "      <td id=\"T_4cd2e_row8_col2\" class=\"data row8 col2\" >272</td>\n",
              "    </tr>\n",
              "    <tr>\n",
              "      <td id=\"T_4cd2e_row9_col0\" class=\"data row9 col0\" >10</td>\n",
              "      <td id=\"T_4cd2e_row9_col1\" class=\"data row9 col1\" >32</td>\n",
              "      <td id=\"T_4cd2e_row9_col2\" class=\"data row9 col2\" >268</td>\n",
              "    </tr>\n",
              "  </tbody>\n",
              "</table>\n"
            ]
          },
          "metadata": {},
          "execution_count": 9
        }
      ]
    },
    {
      "cell_type": "code",
      "source": [
        "print(\"おもりの重さとバネの長さの散布図\")\n",
        "weight_data_plot = pd.DataFrame({\n",
        "    '回数': [1, 2, 3, 4, 5, 6, 7, 8, 9, 10],\n",
        "    'おもりの重さx(g)': [6, 8, 12, 14, 18, 20, 24, 26, 30, 32],\n",
        "    'バネの長さy(mm)': [119, 145, 175, 191, 204, 209, 244, 233, 272, 268],\n",
        "},\n",
        "index = None\n",
        ")\n",
        "plt.xlim(0, 35)\n",
        "plt.ylim(0, 300)\n",
        "sns.scatterplot(x = 'おもりの重さx(g)', y = 'バネの長さy(mm)', hue = '回数', data = weight_data_plot)"
      ],
      "metadata": {
        "colab": {
          "base_uri": "https://localhost:8080/",
          "height": 318
        },
        "id": "2rchV1aPaWs0",
        "outputId": "b74a70fc-5e5a-4a04-a007-3fda215187dd"
      },
      "execution_count": null,
      "outputs": [
        {
          "output_type": "stream",
          "name": "stdout",
          "text": [
            "おもりの重さとバネの長さの散布図\n"
          ]
        },
        {
          "output_type": "execute_result",
          "data": {
            "text/plain": [
              "<matplotlib.axes._subplots.AxesSubplot at 0x7f9b4229d410>"
            ]
          },
          "metadata": {},
          "execution_count": 10
        },
        {
          "output_type": "display_data",
          "data": {
            "text/plain": [
              "<Figure size 432x288 with 1 Axes>"
            ],
            "image/png": "[encoded data removed]"
          },
          "metadata": {
            "needs_background": "light"
          }
        }
      ]
    },
    {
      "cell_type": "markdown",
      "source": [
        "# 最小二乗法  "
      ],
      "metadata": {
        "id": "nOCusVTj5iPv"
      }
    },
    {
      "cell_type": "markdown",
      "source": [
        "**最小二乗法**：回帰係数アルファとベータを推定する方法  \n",
        "(平均などを使って確からしい直線を引く)  \n",
        "**残差(誤差)**：観測値yiと予測値y^iとの差  \n",
        "**残差平方和**：残差をn個全部足す。この時マイナスの符号があると  \n",
        "正しい計算ができないので2乗する。残差平方和は以下の式で定義する  \n",
        "$$\n",
        "(y_1-\\hat{y_1})^2+(y_2-\\hat{y_2})^2+....(y_n-\\hat{y_n})^2\n",
        "=\\sum_{i=1}^n{(y_i-\\hat{y_i})^2}\n",
        "$$\n",
        "**残差平方和の式に直線の式を代入する**  \n",
        "$$\n",
        "y=\\hat{\\alpha}+\\hat{\\beta}xと\\sum_{i=1}^n{(y_i-\\hat{y_i})^2}を合わせると\n",
        "\\sum_{i=1}^n{(y_i-\\hat{\\alpha}-\\hat{\\beta}x_i)^2}になる\n",
        "$$  \n",
        "\n",
        "モデル式で表すとこんな感じ。f(x)がyiと似ている数値になると残差が小さくなる  \n",
        "例えば観測値(テストデータ)と予測値(モデルからの出力)が似ていると  \n",
        "1-1=0  \n",
        "2乗しても0なので残差も0\n",
        "$$\n",
        "\\sum_{i=1}^n{(y_i-f(x))^2}\n",
        "$$  \n",
        "**正規方程式を使った回帰係数の推定**：  \n",
        "$$\n",
        "(傾き)\\hat{\\beta}=\\frac{Sxy}{S^2x}(=rxy\\frac{Sy}{Sx}),　　　　(切片)\\hat{\\alpha}=\\bar{y}-\\hat{\\beta}\\bar{x}\n",
        "$$  \n",
        "$$\n",
        "\\frac{Sxy(共分散)}{S^2x(分散)}\n",
        "$$  \n",
        "おもりの重さとバネの長さのデータについてこれらを求める  \n",
        "$$\n",
        "\\hat{\\beta}=\\frac{401}{73}=5.5,　　　　\\hat{\\alpha}=206-5.5\\times19=101.5\n",
        "$$  \n",
        "となる。これから回帰直線はy＝101.5+5.5xとなる  \n",
        "これでおもりに対するバネの長さが予測できる  \n",
        "おもりの重さが20gの場合  \n",
        "バネの長さは  \n",
        "$$\n",
        "\\hat{y}=101.5+5.5\\times20=211.5(mm)\n",
        "$$\n",
        "211.5と予測される  \n",
        "**残差を求める**  \n",
        "おもりが30gの場合バネの長さの予測値と残差を求める  \n",
        "$$\n",
        "得られた回帰直線より\\hat{y}=101.5+5.5\\times30=266.5(mm)\n",
        "$$  \n",
        "$$\n",
        "残差は272-266.5=5.5(mm)\n",
        "$$  \n"
      ],
      "metadata": {
        "id": "QG0k6Qht14kP"
      }
    },
    {
      "cell_type": "markdown",
      "source": [
        "# 例題  \n",
        "貯蓄(万円)と所有有価証券(万円)について貯蓄をx有価証券をyとして  \n",
        "yをxで予測する回帰直線を求めよ  \n",
        "xの平均：1892.4  \n",
        "S^2x分散：117604.2  \n",
        "S^2y分散：23288.4  \n",
        "yの平均：377.9  \n",
        "Sxy共分散：42432.1  \n",
        "rxy相関係数：0.811  \n",
        "上記のいずれかを使用する  \n",
        "\n"
      ],
      "metadata": {
        "id": "aEojtqg16nzR"
      }
    },
    {
      "cell_type": "code",
      "source": [
        "saving_data = pd.DataFrame({\n",
        "    '関東': ['水戸市', '宇都宮市', '前橋市', 'さいたま市', '千葉市', '東京都区部', '横浜市'],\n",
        "    '貯蓄(万円)': [1355, 1614, 1693, 2293, 1832, 2118, 2342],\n",
        "    '有価証券(万円)': [240, 259, 230, 366, 368, 499, 683],\n",
        "},\n",
        "index = None\n",
        ")\n",
        "plt.xlim(0, 2500)\n",
        "plt.ylim(0, 800)\n",
        "sns.scatterplot(x = '貯蓄(万円)', y = '有価証券(万円)', hue = '関東', data = saving_data)"
      ],
      "metadata": {
        "id": "AUJm9RTD5zk4",
        "colab": {
          "base_uri": "https://localhost:8080/",
          "height": 300
        },
        "outputId": "55ed6778-21d6-4d9e-a19c-22437d61d507"
      },
      "execution_count": null,
      "outputs": [
        {
          "output_type": "execute_result",
          "data": {
            "text/plain": [
              "<matplotlib.axes._subplots.AxesSubplot at 0x7f9b421c9990>"
            ]
          },
          "metadata": {},
          "execution_count": 11
        },
        {
          "output_type": "display_data",
          "data": {
            "text/plain": [
              "<Figure size 432x288 with 1 Axes>"
            ],
            "image/png": "[encoded data removed]"
          },
          "metadata": {
            "needs_background": "light"
          }
        }
      ]
    },
    {
      "cell_type": "code",
      "source": [
        "CLF = LinearRegression()\n",
        "x = np.array([1355, 1614, 1693, 2293, 1832, 2118, 2342])\n",
        "x = x.reshape(-1, 1)\n",
        "y = np.array([240, 259, 230, 366, 368, 499, 683])\n",
        "y = y.reshape(-1, 1)\n",
        "CLF.fit(x, y)\n",
        "\n",
        "plt.scatter(x, y)\n",
        "\n",
        "# 回帰直線\n",
        "plt.title('貯蓄と有価証券')\n",
        "plt.plot(x, CLF.predict(x))\n",
        "plt.xlabel('貯蓄(万円)')\n",
        "plt.ylabel('有価証券(万円)')\n",
        "plt.grid()\n",
        "plt.xlim(0, 2500)\n",
        "plt.ylim(0, 800)\n",
        "plt.show()\n",
        "\n",
        "\n",
        "print(\"回帰係数= \", CLF.coef_)\n",
        "print(\"切片= \", CLF.intercept_)\n",
        "print(\"決定係数= \", CLF.score(x, y))"
      ],
      "metadata": {
        "colab": {
          "base_uri": "https://localhost:8080/",
          "height": 347
        },
        "id": "F-TnOK9RoFSV",
        "outputId": "d528413c-290a-43db-a089-9db94cc29c2d"
      },
      "execution_count": null,
      "outputs": [
        {
          "output_type": "display_data",
          "data": {
            "text/plain": [
              "<Figure size 432x288 with 1 Axes>"
            ],
            "image/png": "[encoded data removed]"
          },
          "metadata": {
            "needs_background": "light"
          }
        },
        {
          "output_type": "stream",
          "name": "stdout",
          "text": [
            "回帰係数=  [[0.36080382]]\n",
            "切片=  [-304.9383215]\n",
            "決定係数=  0.6573935763847886\n"
          ]
        }
      ]
    },
    {
      "cell_type": "markdown",
      "source": [
        "# 答え  "
      ],
      "metadata": {
        "id": "BXb1zdyKAAl1"
      }
    },
    {
      "cell_type": "markdown",
      "source": [
        "正規方程式を解くと  \n",
        "$$\n",
        "\\hat{\\beta}=\\frac{42432.1(共分散)}{117604.2(x分散)}=0.361(\\hat{\\beta},推定された傾き)\n",
        "$$  \n",
        "$$\n",
        "\\hat{\\alpha}=377.9(y平均)-0.361(\\hat{\\beta},推定された傾き)\\times1892.4(x平均)=-305.3(\\hat{\\alpha},推定された切片)\n",
        "$$  \n",
        "これらから回帰直線を導くと  \n",
        "$$\n",
        "y=-305.3(\\hat{\\alpha},推定された切片)+0.361(\\hat{\\beta},推定された傾き)\\times (x)となる\n",
        "$$  \n",
        "xに数値を代入すると回帰直線を求めることができる!!  \n"
      ],
      "metadata": {
        "id": "_whPbl325YNa"
      }
    },
    {
      "cell_type": "markdown",
      "source": [
        "# 回帰直線の注意点  "
      ],
      "metadata": {
        "id": "Wz-4G3N_DQxd"
      }
    },
    {
      "cell_type": "markdown",
      "source": [
        "**外れ値がある場合**：外れ値の影響を受けるので求めた式の解釈には注意が必要  \n",
        "**2変数間の関係が直線でない**：回帰直線よりも2次曲線の方が当てはまりが良い場合がある\n",
        "**複数のグループが混在している**：回帰直線をグループごとに求める  \n",
        "**変数同士を入れ替えてはいけない**：目的変数から説明変数を求めてはいけない。    \n",
        "**データからかけ離れた値を入れて予測する**：データが分布する範囲からかけ離れた値を\n",
        "入れて予測しても値に信憑性が無い。  \n",
        "これを外挿と言う  "
      ],
      "metadata": {
        "id": "M_lrYWv1BQXb"
      }
    },
    {
      "cell_type": "markdown",
      "source": [
        "# 決定係数  "
      ],
      "metadata": {
        "id": "lRrJjN6mFA15"
      }
    },
    {
      "cell_type": "markdown",
      "source": [
        "**決定係数**：求められた回帰直線の説明力を測る指標。寄与率とも言う。  \n",
        "**総平方和**：変数yの散らばり具合  \n",
        "$$\n",
        "S_T=(y_1-\\bar{y})^2+(y_2-\\bar{y})^2+....+(y_n-\\bar{y})^2=\\sum_{i=1}^n{(y_1-\\bar{y})^2}\n",
        "$$  \n",
        "**回帰による平方和**：回帰直線によって説明できた部分  \n",
        "$$\n",
        "S_R=(\\hat{y_1}-\\bar{y})^2+(\\hat{y_2}-\\bar{y})^2+....+(\\hat{y_n}-\\bar{y})^2+\n",
        "\\sum_{i=1}^n{(\\hat{y}_i-\\bar{y})^2}\n",
        "$$  \n",
        "**残差平方和**：回帰直線によって説明できなかった部分  \n",
        "$$\n",
        "S_e=(y_1-\\hat{y}_1)^2+(y_2-\\hat{y}_2)^2+....+(y_n-\\hat{y}_n)^2+\n",
        "\\sum_{i=1}^n{(y_i-\\hat{y}_i)^2}\n",
        "$$  \n",
        "**最終的にはこうなる↓**  \n",
        "$$\n",
        "総平方和(S_T)=回帰による平方和(S_R)+残差平方和(S_e)\n",
        "$$  \n",
        "$$\n",
        "決定係数R^2 = \\frac{S_R}{S_T}\n",
        "$$  \n",
        "決定係数は**0から1の値**を取る。1に近いほど分析が有効だといえる  \n",
        "$$  \n",
        "S_e=0,S_T=S_R,R^2=1になる  \n",
        "$$  \n",
        "**決定係数は重相関係数の2乗の関係**  \n",
        "回帰分析(単回帰)のみ決定係数と相関係数rの間にR^2=r^2が成り立つ  \n",
        "**重相関係数(重回帰)**複数の変数(線形結合)を用意て回帰分析を行った時の相関係数  \n",
        "重回帰分析の場合、目的変数の論理値と実測値との間の相関係数  \n",
        "\n",
        "\n"
      ],
      "metadata": {
        "id": "cUeRqB7LFFaM"
      }
    }
  ]
}