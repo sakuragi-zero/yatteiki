{
  "nbformat": 4,
  "nbformat_minor": 0,
  "metadata": {
    "colab": {
      "name": "Chapter6-7.ipynb",
      "provenance": [],
      "authorship_tag": "ABX9TyOgyBowZfcX31uJ5E9rTF+l",
      "include_colab_link": true
    },
    "kernelspec": {
      "name": "python3",
      "display_name": "Python 3"
    },
    "language_info": {
      "name": "python"
    }
  },
  "cells": [
    {
      "cell_type": "markdown",
      "metadata": {
        "id": "view-in-github",
        "colab_type": "text"
      },
      "source": [
        "<a href=\"https://colab.research.google.com/github/sakuragi-zero/yatteiki/blob/master/statistics/Chapter6_7.ipynb\" target=\"_parent\"><img src=\"https://colab.research.google.com/assets/colab-badge.svg\" alt=\"Open In Colab\"/></a>"
      ]
    },
    {
      "cell_type": "markdown",
      "source": [
        "# **Part6**：**確率**  \n",
        "**この章での目標**  \n",
        "事象と確率の意味を理解する  \n",
        "等確率な事象を用いて、さまざまな事象の確率を求める  \n",
        "樹形図や表を利用して、起こりうる事象を整理する  \n",
        "事象の独立性および試行の独立性を理解する  \n",
        "反復試行の確率を求める  \n",
        "条件付き確率の意味に性質を理解する  \n",
        "条件付き確率を用いて、日常の現象を考える  \n"
      ],
      "metadata": {
        "id": "yP8H8DQLVMEO"
      }
    },
    {
      "cell_type": "markdown",
      "source": [
        "# 事象と確率"
      ],
      "metadata": {
        "id": "7djaBVV1Wm23"
      }
    },
    {
      "cell_type": "markdown",
      "source": [
        "**事象**：  \n",
        "**確率**：  \n",
        "**根元事象**：  \n",
        "**全事象**：  \n",
        "**和事象**：  \n",
        "**積事象**：  \n",
        "**余事象**：  \n",
        "**空事象**：  \n"
      ],
      "metadata": {
        "id": "MZHI8aTeWvYV"
      }
    },
    {
      "cell_type": "markdown",
      "source": [
        "**古典的確率**：  \n",
        "**頻度確率**：  \n",
        "**公理的確率**：  "
      ],
      "metadata": {
        "id": "Z0CxCsubYcmf"
      }
    },
    {
      "cell_type": "markdown",
      "source": [
        "# 事象の独立性と試行の独立性  "
      ],
      "metadata": {
        "id": "ZBqzsn2NY36h"
      }
    },
    {
      "cell_type": "markdown",
      "source": [
        "# 条件付き確率  "
      ],
      "metadata": {
        "id": "fJfbR-tiY_rQ"
      }
    },
    {
      "cell_type": "markdown",
      "source": [
        "# ベイズの定理"
      ],
      "metadata": {
        "id": "foENr8QjZDGf"
      }
    },
    {
      "cell_type": "markdown",
      "source": [
        "# 独立性に関する注意  "
      ],
      "metadata": {
        "id": "yvt5zzUSZQhd"
      }
    },
    {
      "cell_type": "code",
      "execution_count": null,
      "metadata": {
        "id": "vg-Kb-KpU5yS"
      },
      "outputs": [],
      "source": [
        ""
      ]
    }
  ]
}