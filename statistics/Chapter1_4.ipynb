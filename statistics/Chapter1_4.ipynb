{
  "nbformat": 4,
  "nbformat_minor": 0,
  "metadata": {
    "colab": {
      "name": "Chapter1-4.ipynb",
      "provenance": [],
      "collapsed_sections": [
        "krj_G1VapOo6",
        "H5RSTtqHOtSA",
        "iBdsA3XvOdrU",
        "6ij6OtnRR1_P",
        "wEDtXHc4ZjtN",
        "ZasiiOtGreXz",
        "7HFcTY6go8yD",
        "hcFQ8UFwez7W",
        "KdVFNRhVf_0N",
        "FmijLc6ayoKs",
        "MMoOL5_w3h0k",
        "JFB8Hgf3-olJ",
        "uvF2vNYxA-qg",
        "b0sX6PWMNFWE",
        "75N5hBpmlB6H",
        "rWqdwrsncE7Y",
        "41uVilb1V8UD"
      ],
      "authorship_tag": "ABX9TyPf4I8NtvOOyQm+mwWvuwGU",
      "include_colab_link": true
    },
    "kernelspec": {
      "name": "python3",
      "display_name": "Python 3"
    },
    "language_info": {
      "name": "python"
    }
  },
  "cells": [
    {
      "cell_type": "markdown",
      "metadata": {
        "id": "view-in-github",
        "colab_type": "text"
      },
      "source": [
        "<a href=\"https://colab.research.google.com/github/sakuragi-zero/yatteiki/blob/master/statistics/Chapter1_4.ipynb\" target=\"_parent\"><img src=\"https://colab.research.google.com/assets/colab-badge.svg\" alt=\"Open In Colab\"/></a>"
      ]
    },
    {
      "cell_type": "code",
      "source": [
        "! pip install -q japanize_matplotlib"
      ],
      "metadata": {
        "colab": {
          "base_uri": "https://localhost:8080/"
        },
        "id": "hC-x9K7r0SWo",
        "outputId": "0e76a75e-1fbe-43ee-dcdc-28dd0b50d28d"
      },
      "execution_count": 1,
      "outputs": [
        {
          "output_type": "stream",
          "name": "stdout",
          "text": [
            "\u001b[K     |████████████████████████████████| 4.1 MB 5.1 MB/s \n",
            "\u001b[?25h  Building wheel for japanize-matplotlib (setup.py) ... \u001b[?25l\u001b[?25hdone\n"
          ]
        }
      ]
    },
    {
      "cell_type": "code",
      "source": [
        "import numpy as np\n",
        "import pandas as pd\n",
        "import seaborn as sns\n",
        "import matplotlib.pyplot as plt\n",
        "from sklearn.linear_model import LinearRegression\n",
        "from matplotlib.font_manager import FontProperties\n",
        "import japanize_matplotlib"
      ],
      "metadata": {
        "id": "GAeAKX-pcrCI"
      },
      "execution_count": 14,
      "outputs": []
    },
    {
      "cell_type": "markdown",
      "source": [
        "**kaggleのデータセットを使って表を表現しながら統計学に入門する**"
      ],
      "metadata": {
        "id": "zGuyWqxTIqYE"
      }
    },
    {
      "cell_type": "markdown",
      "source": [
        "# **Part1**：**データの種類とグラフ表現**  \n",
        "**この章での目標**  \n",
        "質的変数と量的変数の違いを理解する  \n",
        "質的変数の集計やグラフ表現を理解する  \n",
        "クロス集計を理解する  \n",
        "さまざまなグラフの特徴を理解し結果を解釈できる  \n",
        "分析の目的に合わせて適切なグラフを適応できる  \n",
        "時系列データの特徴を理解し、時間的な推移を理解できる  \n",
        "時系列データを適切にグラフに表すことができる  \n",
        "指数を用意て時系列データを解釈できる  "
      ],
      "metadata": {
        "id": "krj_G1VapOo6"
      }
    },
    {
      "cell_type": "markdown",
      "source": [
        "# データの種類  \n",
        "**質的変数**：カテゴリー  \n",
        "名義尺度：カテゴリー間に順序がない  \n",
        "順序尺度：カテゴリー間に順序がある  \n",
        "**量的変数**：数値  \n",
        "間隔尺度：数値との間隔に意味がある、西暦など  \n",
        "比例尺度：数値を数式で導くことができる  \n",
        "**離散変数**：整数  \n",
        "**連続変数**：少数点込み  \n",
        "**多変量データ**：2つ以上の変数を同時に扱う。身長と体重の同時測定  \n",
        "**時系列データ**：1つの変数に対して時間の変化による数値の変化に注目する  \n",
        "**パネルデータ**：複数の同一個体(同じ条件下)を複数時点にわたって観測されたデータ  \n",
        "**クロスセクションデータ**：ある時点での異なるデータを横断的に集めたデータ  \n"
      ],
      "metadata": {
        "id": "H5RSTtqHOtSA"
      }
    },
    {
      "cell_type": "markdown",
      "source": [
        "# 質的変数の要約  \n",
        "**度数、頻度**：それぞれのカテゴリに属する観測値の個数  \n",
        "**クロス集計**：複数の項目を組み合わせて集計する"
      ],
      "metadata": {
        "id": "P6NzRJegTYfl"
      }
    },
    {
      "cell_type": "code",
      "source": [
        "data = pd.DataFrame(data={\n",
        "  '支持政党': ['自民党','立憲民主党','公明党','共産党','日本維新の会','国民民主党','社民党','その他','支持なし','わからない・無回答','合計'],\n",
        "  '度数':     [689,    124,       99,    60,     47,          33,        10,     21,    812,      165,              2060]\n",
        "},\n",
        "index=['自民党','立憲民主党','公明党','共産党','日本維新の会','国民民主党','社民党','その他','支持なし','わからない・無回答','合計'],\n",
        "columns=['支持政党','度数'])\n",
        "df=data.style.hide_index()\n",
        "df\n",
        "#今回は後のグラフのことを考えてindexの指定とstyle.hide_indexを使用している"
      ],
      "metadata": {
        "colab": {
          "base_uri": "https://localhost:8080/",
          "height": 394
        },
        "id": "PRZEorTeufBz",
        "outputId": "fc38a400-1046-4ed1-aa43-2a23de551411"
      },
      "execution_count": 3,
      "outputs": [
        {
          "output_type": "execute_result",
          "data": {
            "text/plain": [
              "<pandas.io.formats.style.Styler at 0x7f748ed98e10>"
            ],
            "text/html": [
              "<style type=\"text/css\">\n",
              "</style>\n",
              "<table id=\"T_0d48d_\" class=\"dataframe\">\n",
              "  <thead>\n",
              "    <tr>\n",
              "      <th class=\"col_heading level0 col0\" >支持政党</th>\n",
              "      <th class=\"col_heading level0 col1\" >度数</th>\n",
              "    </tr>\n",
              "  </thead>\n",
              "  <tbody>\n",
              "    <tr>\n",
              "      <td id=\"T_0d48d_row0_col0\" class=\"data row0 col0\" >自民党</td>\n",
              "      <td id=\"T_0d48d_row0_col1\" class=\"data row0 col1\" >689</td>\n",
              "    </tr>\n",
              "    <tr>\n",
              "      <td id=\"T_0d48d_row1_col0\" class=\"data row1 col0\" >立憲民主党</td>\n",
              "      <td id=\"T_0d48d_row1_col1\" class=\"data row1 col1\" >124</td>\n",
              "    </tr>\n",
              "    <tr>\n",
              "      <td id=\"T_0d48d_row2_col0\" class=\"data row2 col0\" >公明党</td>\n",
              "      <td id=\"T_0d48d_row2_col1\" class=\"data row2 col1\" >99</td>\n",
              "    </tr>\n",
              "    <tr>\n",
              "      <td id=\"T_0d48d_row3_col0\" class=\"data row3 col0\" >共産党</td>\n",
              "      <td id=\"T_0d48d_row3_col1\" class=\"data row3 col1\" >60</td>\n",
              "    </tr>\n",
              "    <tr>\n",
              "      <td id=\"T_0d48d_row4_col0\" class=\"data row4 col0\" >日本維新の会</td>\n",
              "      <td id=\"T_0d48d_row4_col1\" class=\"data row4 col1\" >47</td>\n",
              "    </tr>\n",
              "    <tr>\n",
              "      <td id=\"T_0d48d_row5_col0\" class=\"data row5 col0\" >国民民主党</td>\n",
              "      <td id=\"T_0d48d_row5_col1\" class=\"data row5 col1\" >33</td>\n",
              "    </tr>\n",
              "    <tr>\n",
              "      <td id=\"T_0d48d_row6_col0\" class=\"data row6 col0\" >社民党</td>\n",
              "      <td id=\"T_0d48d_row6_col1\" class=\"data row6 col1\" >10</td>\n",
              "    </tr>\n",
              "    <tr>\n",
              "      <td id=\"T_0d48d_row7_col0\" class=\"data row7 col0\" >その他</td>\n",
              "      <td id=\"T_0d48d_row7_col1\" class=\"data row7 col1\" >21</td>\n",
              "    </tr>\n",
              "    <tr>\n",
              "      <td id=\"T_0d48d_row8_col0\" class=\"data row8 col0\" >支持なし</td>\n",
              "      <td id=\"T_0d48d_row8_col1\" class=\"data row8 col1\" >812</td>\n",
              "    </tr>\n",
              "    <tr>\n",
              "      <td id=\"T_0d48d_row9_col0\" class=\"data row9 col0\" >わからない・無回答</td>\n",
              "      <td id=\"T_0d48d_row9_col1\" class=\"data row9 col1\" >165</td>\n",
              "    </tr>\n",
              "    <tr>\n",
              "      <td id=\"T_0d48d_row10_col0\" class=\"data row10 col0\" >合計</td>\n",
              "      <td id=\"T_0d48d_row10_col1\" class=\"data row10 col1\" >2060</td>\n",
              "    </tr>\n",
              "  </tbody>\n",
              "</table>\n"
            ]
          },
          "metadata": {},
          "execution_count": 3
        }
      ]
    },
    {
      "cell_type": "code",
      "source": [
        "print(\"棒グラフ\")\n",
        "data[:10].plot.bar(\n",
        "  y='度数'\n",
        ")"
      ],
      "metadata": {
        "colab": {
          "base_uri": "https://localhost:8080/",
          "height": 381
        },
        "id": "uMOqcKk216lR",
        "outputId": "9c1028a5-0e5a-4a6a-c70e-2a8233cf5df3"
      },
      "execution_count": 4,
      "outputs": [
        {
          "output_type": "stream",
          "name": "stdout",
          "text": [
            "棒グラフ\n"
          ]
        },
        {
          "output_type": "execute_result",
          "data": {
            "text/plain": [
              "<matplotlib.axes._subplots.AxesSubplot at 0x7f747692b3d0>"
            ]
          },
          "metadata": {},
          "execution_count": 4
        },
        {
          "output_type": "display_data",
          "data": {
            "text/plain": [
              "<Figure size 432x288 with 1 Axes>"
            ],
            "image/png": "[encoded data removed]"
          },
          "metadata": {
            "needs_background": "light"
          }
        }
      ]
    },
    {
      "cell_type": "markdown",
      "source": [
        "# グラフによるデータの集約  \n",
        "**幹葉図**：データの大きさnが小さい時に使われる。ヒストグラムを縦にした感じ  \n",
        "**棒グラフ**：量の大小を比較する。棒の高さでそれぞれのカテゴリの量を表す  \n",
        "**円グラフ**：それぞれのカテゴリの全体に対する割合を表す  \n",
        "**帯グラフ**：内容は円グラフと同じ。複数のグループを比較したい時に使う  \n",
        "**折線グラフ**：数量の時間的変化を表す  \n",
        "**レーダーチャート**：複数の値をまとめて表現する"
      ],
      "metadata": {
        "id": "cbOTfeCBKe7S"
      }
    },
    {
      "cell_type": "code",
      "source": [
        "data[:10].plot.pie(y='度数', figsize=(6, 6),ylabel='',fontsize=10,legend=False)#legend=Falseで凡例を消す"
      ],
      "metadata": {
        "colab": {
          "base_uri": "https://localhost:8080/",
          "height": 375
        },
        "id": "6TdUvrrcyqR5",
        "outputId": "a66c4bd9-45b0-413c-863e-e1ae294fee21"
      },
      "execution_count": 5,
      "outputs": [
        {
          "output_type": "execute_result",
          "data": {
            "text/plain": [
              "<matplotlib.axes._subplots.AxesSubplot at 0x7f7476371290>"
            ]
          },
          "metadata": {},
          "execution_count": 5
        },
        {
          "output_type": "display_data",
          "data": {
            "text/plain": [
              "<Figure size 432x432 with 1 Axes>"
            ],
            "image/png": "[encoded data removed]"
          },
          "metadata": {}
        }
      ]
    },
    {
      "cell_type": "markdown",
      "source": [
        "# グラフ表現の工夫と注意点  \n",
        "**雨温図**：気温を折線グラフで表し降水量を棒グラフで表す  \n",
        "**積み上げ棒グラフ**：地層に似たグラフ。複数のカテゴリを並べ各度数を縦に積み上げる  \n",
        "**複数の帯グラフ**：帯グラフを並べて比較する  \n",
        "**誤解を招きやすいグラフ表現**：目盛りの縦軸が0から始まっていない"
      ],
      "metadata": {
        "id": "iBdsA3XvOdrU"
      }
    },
    {
      "cell_type": "markdown",
      "source": [
        "# 時系列データの要約  \n",
        "**時系列データのグラフ表現**：折線グラフを使って表す  \n",
        "**変化率**：現時点の値 - 前時点の値 / 前時点の値  \n"
      ],
      "metadata": {
        "id": "6ij6OtnRR1_P"
      }
    },
    {
      "cell_type": "markdown",
      "source": [
        "# 時系列グラフ作成上の注意点\n",
        "**時間間隔に注意を払う**：時間の間隔によってグラフの見え方が違う  \n",
        "**時系列データに対数を利用する**：データを変換して対数変換する。縦軸を0〜300→0〜30  "
      ],
      "metadata": {
        "id": "wEDtXHc4ZjtN"
      }
    },
    {
      "cell_type": "markdown",
      "source": [
        "# **Part2**：量的変数の要約方法  \n",
        "**この章での目標**  \n",
        "連続的な量的変数について、度数分布表の作成と意味を理解する  \n",
        "ヒストグラムの作成方法と意味を理解する  \n",
        "度数分布やヒストグラムを用いて、分布の様子を調べる  \n",
        "相対度数と累積相対度数の関係を理解する  \n",
        "データの分布の特徴を表す5つの数値を求め分布を要約する  \n",
        "箱ひげ図で分布の情報を理解し、異なる集団の分布を比較する  \n",
        "データの散らばりの尺度を理解し、データの散らばりを把握する  \n"
      ],
      "metadata": {
        "id": "ZasiiOtGreXz"
      }
    },
    {
      "cell_type": "markdown",
      "source": [
        "# 度数分布表の作成  \n",
        "**階級**：変数が取る値の範囲をグループ分けした、それぞれの区間  \n",
        "**階級の度数、頻度**：階級に含まれる観測値の個数  \n",
        "**度数分布**：階級ごとに度数を整理したもの  \n",
        "**度数分布表**：度数分布を表にしたもの  \n",
        "**階級の代表値、階級値**：各階級を代表する値、平均値や中央値などが多い  \n",
        "**相対度数**：各階級の度数の全体に対する割合。階級の度数 / 度数の合計  \n",
        "**累積相対度数**：度数または相対度数を小さい階級から合計して得られる  "
      ],
      "metadata": {
        "id": "7HFcTY6go8yD"
      }
    },
    {
      "cell_type": "markdown",
      "source": [
        "# ヒストグラムと度数分布多角形  \n",
        "**ヒストグラム**：度数分布をグラフ化する。面積が度数と比例する  "
      ],
      "metadata": {
        "id": "hcFQ8UFwez7W"
      }
    },
    {
      "cell_type": "markdown",
      "source": [
        "# 分布の特徴の把握  \n",
        "**正規分布**：左右対称の分布  \n",
        "**外れ値**：極端に大きい値や極端に小さな値  "
      ],
      "metadata": {
        "id": "KdVFNRhVf_0N"
      }
    },
    {
      "cell_type": "markdown",
      "source": [
        "# 分位数と5数要約  \n",
        "**分位数**：データを小さい順に並べ替えてデータの数で等分した時の区切りの値  \n",
        "**四分位数**：分位数を求める時に四等分する。第1四分位数(Q1)と表す  \n",
        "**累積度数分布**：度数を累積(積み上げて)100%に近づいていくグラフ  \n",
        "**5数要約**：最小値、最大値、第1四分位数、第2四分位数、第3四分位数  \n",
        "**第1四分位数**：第2四分位数から最小値までの範囲の中央値。**全体の25%**  \n",
        "**第2四分位数**：最小値から最大値までの範囲の中央値。**全体の50%**  \n",
        "**第3四分位数**：第2四分位数から最大値までの範囲の中央値。**全体の75%**  \n",
        "**四分位範囲**：第3四分位数 - 第1四分位数(Q3 - Q1)値が大きいほど観測値が散らばっている  "
      ],
      "metadata": {
        "id": "FmijLc6ayoKs"
      }
    },
    {
      "cell_type": "markdown",
      "source": [
        "# 箱ひげ図  \n",
        "**箱ひげ図**：5要約数を図にしたもの。四分位範囲が箱の形をしている  \n"
      ],
      "metadata": {
        "id": "MMoOL5_w3h0k"
      }
    },
    {
      "cell_type": "markdown",
      "source": [
        "# **Part3**：1変数データの分析 \n",
        "**この章での目標**  \n",
        "分布の位置を表す代表値の意味を理解する  \n",
        "3つの位置の代表値の適切な使い方を理解する  \n",
        "位置の代表値を用いて分布の様子を把握する  \n",
        "個々の観測値の散らばりの程度の概念を理解する  \n",
        "データの散らばりの程度を表す尺度を求める  \n",
        "散らばりの尺度を用いて分布の特徴を把握する  "
      ],
      "metadata": {
        "id": "JFB8Hgf3-olJ"
      }
    },
    {
      "cell_type": "markdown",
      "source": [
        "# 位置に関する代表値  \n",
        "**平均値**：広く用いられる位置の代表値。外れ値の影響を受けやすい  \n",
        "$$\n",
        "\\bar{x}=\\frac{観測値の合計}{観測値の個数}=\\frac{x_1+x_2+x_3+x_n}{n}=\\frac{1}{n}=\\sum_{i=1}^n{x_i}\n",
        "$$\n",
        "**中央値**：観測値を大きい順に並べた時に真ん中に位置する観測値。  \n",
        "外れ値の影響を受けにくい。観測値が偶数の場合は真ん中2つの平均を取る  \n",
        "**最頻値**：最も頻繁に出現する値。最頻値はヒストグラムで最も高くなる  \n",
        "**3つの位置の代表値の大小関係**：右の裾が長い分布では最頻値＜中央値＜平均値  "
      ],
      "metadata": {
        "id": "uvF2vNYxA-qg"
      }
    },
    {
      "cell_type": "markdown",
      "source": [
        "**度数分布表からの平均値の計算**：個々の観測値を特定できず度数分布だけが  \n",
        "与えられた場合、平均値を求めたいことがある。  \n",
        "それぞれの階級で代表値 × 度数を計算し  \n",
        "その合計を度数の合計で割ったものを平均値とする  \n",
        "階級の数をk、各階級の代表値をm1,m2,m3...,度数をf1,f2,f3...  \n",
        "\n",
        "データの大きさは  \n",
        "$$\n",
        "n=f_1+f_2+f_3...+f_k=\\sum_{j=1}^k{f_j}\n",
        "$$  \n",
        "\n",
        "であり度数分布から求めた平均値は  \n",
        "$$\n",
        "\\frac{m_1f_1+m_2f_2+...+m_k}{n}=\\frac{\\displaystyle \\sum_{j=1}^k{m_jf_j}}{\\displaystyle \\sum_{j=1}^k{f_j}}\n",
        "$$  \n",
        "このようにして計算した平均値は個々の観測値が利用できる場合の平均値の近似である"
      ],
      "metadata": {
        "id": "w-fOvqDTZV13"
      }
    },
    {
      "cell_type": "markdown",
      "source": [
        "# 観測値の散らばりの尺度  \n",
        "**偏差**：平均からどれだけ離れているか。偏差の合計と平均は常に0  \n",
        "$$\n",
        "偏差=観測値-平均値={x_i}-\\bar{x}\n",
        "$$  \n",
        "**平均偏差**：データ全体の散らばりを考える時に偏差の絶対値の平均値を取る  \n",
        "$$\n",
        "\\frac{1}{n}\\sum_{i=1}^n{|x_i-\\bar{x}|}\n",
        "$$  \n",
        "**分散**：偏差を平方した値の平均値\n",
        "$$\n",
        "\\frac{1}{n}\\sum_{i=1}^n{(x_i-\\bar{x})^2}\n",
        "$$  \n",
        "**標準偏差**：分散では平均値とは単位が異なり解釈難しいので分散の正の平方根を取る  \n",
        "分散、標準偏差、平均偏差は範囲や四分位範囲と同様にデータの散らばりを表す"
      ],
      "metadata": {
        "id": "b0sX6PWMNFWE"
      }
    },
    {
      "cell_type": "markdown",
      "source": [
        "# 変数の変換と平均値、分散、標準偏差  \n",
        "**仮平均**：仮の平均値を置いてから正しい平均値を計算する  \n",
        "**偏差平方和**：分散をnで割らなかったもの。仮平均を使用する時に有効    \n",
        "**変数の標準化**：身長と体重など単位の異なる変数の  \n",
        "平均値や標準偏差を比較しても意味がない。  \n",
        "このような場合にデータの標準化を行い統一した基準で比較する  \n",
        "変数の標準化は各観測値xi、i=1...、nに対して処理を施しziを求める  \n",
        "$$\n",
        "{z_i}=\\frac{観測値-平均値}{標準偏差}=\\frac{x_i-\\bar{x}}{s}\n",
        "$$  \n",
        "標準化された値をzスコアという。 平均値は0、標準偏差は1の無名数になる  \n",
        "**変動係数**：平均値に対するデータとばらつきの関係を相対的に評価するための値のこと  \n",
        "単位を持たない無次元の数値  \n",
        "$$\n",
        "変動係数=\\frac{標準偏差}{平均値}\n",
        "$$  \n"
      ],
      "metadata": {
        "id": "75N5hBpmlB6H"
      }
    },
    {
      "cell_type": "markdown",
      "source": [
        "# 探索的データ解析法と外れ値  \n",
        "**EDA**：外れ値の影響を受けずらく、簡単な方法でデータを探索する手法  "
      ],
      "metadata": {
        "id": "rWqdwrsncE7Y"
      }
    },
    {
      "cell_type": "markdown",
      "source": [
        "# **Part4**：2変数データの分析  \n",
        "**この章での目標**\n",
        "2変数データの分析を理解する  \n",
        "2つの変数の関係を表や図を用いて表現することができる  \n",
        "2つの変数の相関関係を数式で表現することができる  \n",
        "散布図と相関関係の関係を理解する  \n",
        "相関関係を正しく用いることができる  "
      ],
      "metadata": {
        "id": "41uVilb1V8UD"
      }
    },
    {
      "cell_type": "markdown",
      "source": [
        "# 2つの変数の関係  \n",
        "**質的変数の場合**：**多重クロス集計表**を使う。1変数では見えなかった特徴を検出できる  \n",
        "**量的変数**：散布図を使う。x軸が身長y軸が体重  \n",
        "**正の相関関係**：片方の変数の値が増えた時にもう片方の変数の値が増える。右肩上がり  \n",
        "**負の相関関係**：片方の変数の値が増えた時にもう片方の変数の値が減る。左肩上がり  \n",
        "**無相関**：直線的な関係は見て取れない。中心に集まっているか疎ら  \n",
        "**相関関係の強さ**：直線に近いと直線  \n",
        "**同時分布**：表にした時の変数間のデータの部分  \n",
        "**周辺分布**：表にした時の列方向または行方向の各、変数の合計  "
      ],
      "metadata": {
        "id": "XSs_01p9Zq3h"
      }
    },
    {
      "cell_type": "code",
      "source": [
        "#クロス集計\n",
        "print(\"多重クロス集計表\")\n",
        "store_data = pd.DataFrame({\n",
        "    '商品イ': [25, 5, 0, 0, 30 ],\n",
        "    '商品ロ': [0, 28, 11, 0, 39],\n",
        "    '商品ハ': [2, 0, 12, 17, 31],\n",
        "    '合計': [27, 33, 23, 17, 100],\n",
        "},\n",
        "index = ['A地区', 'B地区', 'C地区', 'D地区', '合計'],\n",
        ")\n",
        "store_data"
      ],
      "metadata": {
        "colab": {
          "base_uri": "https://localhost:8080/",
          "height": 224
        },
        "id": "UEVfQYdDIigI",
        "outputId": "1101130d-b023-4220-f940-1e471c1ca960"
      },
      "execution_count": 12,
      "outputs": [
        {
          "output_type": "stream",
          "name": "stdout",
          "text": [
            "多重クロス集計表\n"
          ]
        },
        {
          "output_type": "execute_result",
          "data": {
            "text/plain": [
              "     商品イ  商品ロ  商品ハ   合計\n",
              "A地区   25    0    2   27\n",
              "B地区    5   28    0   33\n",
              "C地区    0   11   12   23\n",
              "D地区    0    0   17   17\n",
              "合計    30   39   31  100"
            ],
            "text/html": [
              "\n",
              "  <div id=\"df-9c2bc100-bcb9-4d98-8b95-5fa30142376d\">\n",
              "    <div class=\"colab-df-container\">\n",
              "      <div>\n",
              "<style scoped>\n",
              "    .dataframe tbody tr th:only-of-type {\n",
              "        vertical-align: middle;\n",
              "    }\n",
              "\n",
              "    .dataframe tbody tr th {\n",
              "        vertical-align: top;\n",
              "    }\n",
              "\n",
              "    .dataframe thead th {\n",
              "        text-align: right;\n",
              "    }\n",
              "</style>\n",
              "<table border=\"1\" class=\"dataframe\">\n",
              "  <thead>\n",
              "    <tr style=\"text-align: right;\">\n",
              "      <th></th>\n",
              "      <th>商品イ</th>\n",
              "      <th>商品ロ</th>\n",
              "      <th>商品ハ</th>\n",
              "      <th>合計</th>\n",
              "    </tr>\n",
              "  </thead>\n",
              "  <tbody>\n",
              "    <tr>\n",
              "      <th>A地区</th>\n",
              "      <td>25</td>\n",
              "      <td>0</td>\n",
              "      <td>2</td>\n",
              "      <td>27</td>\n",
              "    </tr>\n",
              "    <tr>\n",
              "      <th>B地区</th>\n",
              "      <td>5</td>\n",
              "      <td>28</td>\n",
              "      <td>0</td>\n",
              "      <td>33</td>\n",
              "    </tr>\n",
              "    <tr>\n",
              "      <th>C地区</th>\n",
              "      <td>0</td>\n",
              "      <td>11</td>\n",
              "      <td>12</td>\n",
              "      <td>23</td>\n",
              "    </tr>\n",
              "    <tr>\n",
              "      <th>D地区</th>\n",
              "      <td>0</td>\n",
              "      <td>0</td>\n",
              "      <td>17</td>\n",
              "      <td>17</td>\n",
              "    </tr>\n",
              "    <tr>\n",
              "      <th>合計</th>\n",
              "      <td>30</td>\n",
              "      <td>39</td>\n",
              "      <td>31</td>\n",
              "      <td>100</td>\n",
              "    </tr>\n",
              "  </tbody>\n",
              "</table>\n",
              "</div>\n",
              "      <button class=\"colab-df-convert\" onclick=\"convertToInteractive('df-9c2bc100-bcb9-4d98-8b95-5fa30142376d')\"\n",
              "              title=\"Convert this dataframe to an interactive table.\"\n",
              "              style=\"display:none;\">\n",
              "        \n",
              "  <svg xmlns=\"http://www.w3.org/2000/svg\" height=\"24px\"viewBox=\"0 0 24 24\"\n",
              "       width=\"24px\">\n",
              "    <path d=\"M0 0h24v24H0V0z\" fill=\"none\"/>\n",
              "    <path d=\"M18.56 5.44l.94 2.06.94-2.06 2.06-.94-2.06-.94-.94-2.06-.94 2.06-2.06.94zm-11 1L8.5 8.5l.94-2.06 2.06-.94-2.06-.94L8.5 2.5l-.94 2.06-2.06.94zm10 10l.94 2.06.94-2.06 2.06-.94-2.06-.94-.94-2.06-.94 2.06-2.06.94z\"/><path d=\"M17.41 7.96l-1.37-1.37c-.4-.4-.92-.59-1.43-.59-.52 0-1.04.2-1.43.59L10.3 9.45l-7.72 7.72c-.78.78-.78 2.05 0 2.83L4 21.41c.39.39.9.59 1.41.59.51 0 1.02-.2 1.41-.59l7.78-7.78 2.81-2.81c.8-.78.8-2.07 0-2.86zM5.41 20L4 18.59l7.72-7.72 1.47 1.35L5.41 20z\"/>\n",
              "  </svg>\n",
              "      </button>\n",
              "      \n",
              "  <style>\n",
              "    .colab-df-container {\n",
              "      display:flex;\n",
              "      flex-wrap:wrap;\n",
              "      gap: 12px;\n",
              "    }\n",
              "\n",
              "    .colab-df-convert {\n",
              "      background-color: #E8F0FE;\n",
              "      border: none;\n",
              "      border-radius: 50%;\n",
              "      cursor: pointer;\n",
              "      display: none;\n",
              "      fill: #1967D2;\n",
              "      height: 32px;\n",
              "      padding: 0 0 0 0;\n",
              "      width: 32px;\n",
              "    }\n",
              "\n",
              "    .colab-df-convert:hover {\n",
              "      background-color: #E2EBFA;\n",
              "      box-shadow: 0px 1px 2px rgba(60, 64, 67, 0.3), 0px 1px 3px 1px rgba(60, 64, 67, 0.15);\n",
              "      fill: #174EA6;\n",
              "    }\n",
              "\n",
              "    [theme=dark] .colab-df-convert {\n",
              "      background-color: #3B4455;\n",
              "      fill: #D2E3FC;\n",
              "    }\n",
              "\n",
              "    [theme=dark] .colab-df-convert:hover {\n",
              "      background-color: #434B5C;\n",
              "      box-shadow: 0px 1px 3px 1px rgba(0, 0, 0, 0.15);\n",
              "      filter: drop-shadow(0px 1px 2px rgba(0, 0, 0, 0.3));\n",
              "      fill: #FFFFFF;\n",
              "    }\n",
              "  </style>\n",
              "\n",
              "      <script>\n",
              "        const buttonEl =\n",
              "          document.querySelector('#df-9c2bc100-bcb9-4d98-8b95-5fa30142376d button.colab-df-convert');\n",
              "        buttonEl.style.display =\n",
              "          google.colab.kernel.accessAllowed ? 'block' : 'none';\n",
              "\n",
              "        async function convertToInteractive(key) {\n",
              "          const element = document.querySelector('#df-9c2bc100-bcb9-4d98-8b95-5fa30142376d');\n",
              "          const dataTable =\n",
              "            await google.colab.kernel.invokeFunction('convertToInteractive',\n",
              "                                                     [key], {});\n",
              "          if (!dataTable) return;\n",
              "\n",
              "          const docLinkHtml = 'Like what you see? Visit the ' +\n",
              "            '<a target=\"_blank\" href=https://colab.research.google.com/notebooks/data_table.ipynb>data table notebook</a>'\n",
              "            + ' to learn more about interactive tables.';\n",
              "          element.innerHTML = '';\n",
              "          dataTable['output_type'] = 'display_data';\n",
              "          await google.colab.output.renderOutput(dataTable, element);\n",
              "          const docLink = document.createElement('div');\n",
              "          docLink.innerHTML = docLinkHtml;\n",
              "          element.appendChild(docLink);\n",
              "        }\n",
              "      </script>\n",
              "    </div>\n",
              "  </div>\n",
              "  "
            ]
          },
          "metadata": {},
          "execution_count": 12
        }
      ]
    },
    {
      "cell_type": "markdown",
      "source": [
        "# 層別散布図  \n",
        "**層別散布図**：変数ごとに記号を変えて散布図を描画したもの  "
      ],
      "metadata": {
        "id": "lOVu9njExnoW"
      }
    },
    {
      "cell_type": "code",
      "source": [
        "# 層別散布図\n",
        "print(\"層別散布図\")\n",
        "savings_data = pd.DataFrame({\n",
        "    '貯蓄(万円)': [1355, 1614, 1693, 2293, 1832, 2118, 2342, 1766, 1802, 1764, 1863, 2158, 2389, 1801],\n",
        "    '有価証券(万円)': [240, 259, 230, 366, 368, 499, 683, 349, 331, 388, 342, 511, 554, 325],\n",
        "    '地区': ['関東', '関東', '関東', '関東', '関東', '関東', '関東', '関西', '関西', '関西', '関西', '関西', '関西', '関西']\n",
        "},\n",
        "index = ['水戸市', '宇都宮市', '前橋市', 'さいたま市', '千葉市', '東京都区部', '横浜市', '津市', '大津市', '京都市', '大阪市', '神戸市', '奈良市', '和歌山市'],\n",
        ")\n",
        "savings_data"
      ],
      "metadata": {
        "colab": {
          "base_uri": "https://localhost:8080/",
          "height": 506
        },
        "id": "i9DJFQIAYrag",
        "outputId": "63e91231-fc10-4e2e-f30a-3300784cbe88"
      },
      "execution_count": 18,
      "outputs": [
        {
          "output_type": "stream",
          "name": "stdout",
          "text": [
            "層別散布図\n"
          ]
        },
        {
          "output_type": "execute_result",
          "data": {
            "text/plain": [
              "       貯蓄(万円)  有価証券(万円)  地区\n",
              "水戸市      1355       240  関東\n",
              "宇都宮市     1614       259  関東\n",
              "前橋市      1693       230  関東\n",
              "さいたま市    2293       366  関東\n",
              "千葉市      1832       368  関東\n",
              "東京都区部    2118       499  関東\n",
              "横浜市      2342       683  関東\n",
              "津市       1766       349  関西\n",
              "大津市      1802       331  関西\n",
              "京都市      1764       388  関西\n",
              "大阪市      1863       342  関西\n",
              "神戸市      2158       511  関西\n",
              "奈良市      2389       554  関西\n",
              "和歌山市     1801       325  関西"
            ],
            "text/html": [
              "\n",
              "  <div id=\"df-8f7cea0f-3e3b-4ba6-88d4-635f847fdda3\">\n",
              "    <div class=\"colab-df-container\">\n",
              "      <div>\n",
              "<style scoped>\n",
              "    .dataframe tbody tr th:only-of-type {\n",
              "        vertical-align: middle;\n",
              "    }\n",
              "\n",
              "    .dataframe tbody tr th {\n",
              "        vertical-align: top;\n",
              "    }\n",
              "\n",
              "    .dataframe thead th {\n",
              "        text-align: right;\n",
              "    }\n",
              "</style>\n",
              "<table border=\"1\" class=\"dataframe\">\n",
              "  <thead>\n",
              "    <tr style=\"text-align: right;\">\n",
              "      <th></th>\n",
              "      <th>貯蓄(万円)</th>\n",
              "      <th>有価証券(万円)</th>\n",
              "      <th>地区</th>\n",
              "    </tr>\n",
              "  </thead>\n",
              "  <tbody>\n",
              "    <tr>\n",
              "      <th>水戸市</th>\n",
              "      <td>1355</td>\n",
              "      <td>240</td>\n",
              "      <td>関東</td>\n",
              "    </tr>\n",
              "    <tr>\n",
              "      <th>宇都宮市</th>\n",
              "      <td>1614</td>\n",
              "      <td>259</td>\n",
              "      <td>関東</td>\n",
              "    </tr>\n",
              "    <tr>\n",
              "      <th>前橋市</th>\n",
              "      <td>1693</td>\n",
              "      <td>230</td>\n",
              "      <td>関東</td>\n",
              "    </tr>\n",
              "    <tr>\n",
              "      <th>さいたま市</th>\n",
              "      <td>2293</td>\n",
              "      <td>366</td>\n",
              "      <td>関東</td>\n",
              "    </tr>\n",
              "    <tr>\n",
              "      <th>千葉市</th>\n",
              "      <td>1832</td>\n",
              "      <td>368</td>\n",
              "      <td>関東</td>\n",
              "    </tr>\n",
              "    <tr>\n",
              "      <th>東京都区部</th>\n",
              "      <td>2118</td>\n",
              "      <td>499</td>\n",
              "      <td>関東</td>\n",
              "    </tr>\n",
              "    <tr>\n",
              "      <th>横浜市</th>\n",
              "      <td>2342</td>\n",
              "      <td>683</td>\n",
              "      <td>関東</td>\n",
              "    </tr>\n",
              "    <tr>\n",
              "      <th>津市</th>\n",
              "      <td>1766</td>\n",
              "      <td>349</td>\n",
              "      <td>関西</td>\n",
              "    </tr>\n",
              "    <tr>\n",
              "      <th>大津市</th>\n",
              "      <td>1802</td>\n",
              "      <td>331</td>\n",
              "      <td>関西</td>\n",
              "    </tr>\n",
              "    <tr>\n",
              "      <th>京都市</th>\n",
              "      <td>1764</td>\n",
              "      <td>388</td>\n",
              "      <td>関西</td>\n",
              "    </tr>\n",
              "    <tr>\n",
              "      <th>大阪市</th>\n",
              "      <td>1863</td>\n",
              "      <td>342</td>\n",
              "      <td>関西</td>\n",
              "    </tr>\n",
              "    <tr>\n",
              "      <th>神戸市</th>\n",
              "      <td>2158</td>\n",
              "      <td>511</td>\n",
              "      <td>関西</td>\n",
              "    </tr>\n",
              "    <tr>\n",
              "      <th>奈良市</th>\n",
              "      <td>2389</td>\n",
              "      <td>554</td>\n",
              "      <td>関西</td>\n",
              "    </tr>\n",
              "    <tr>\n",
              "      <th>和歌山市</th>\n",
              "      <td>1801</td>\n",
              "      <td>325</td>\n",
              "      <td>関西</td>\n",
              "    </tr>\n",
              "  </tbody>\n",
              "</table>\n",
              "</div>\n",
              "      <button class=\"colab-df-convert\" onclick=\"convertToInteractive('df-8f7cea0f-3e3b-4ba6-88d4-635f847fdda3')\"\n",
              "              title=\"Convert this dataframe to an interactive table.\"\n",
              "              style=\"display:none;\">\n",
              "        \n",
              "  <svg xmlns=\"http://www.w3.org/2000/svg\" height=\"24px\"viewBox=\"0 0 24 24\"\n",
              "       width=\"24px\">\n",
              "    <path d=\"M0 0h24v24H0V0z\" fill=\"none\"/>\n",
              "    <path d=\"M18.56 5.44l.94 2.06.94-2.06 2.06-.94-2.06-.94-.94-2.06-.94 2.06-2.06.94zm-11 1L8.5 8.5l.94-2.06 2.06-.94-2.06-.94L8.5 2.5l-.94 2.06-2.06.94zm10 10l.94 2.06.94-2.06 2.06-.94-2.06-.94-.94-2.06-.94 2.06-2.06.94z\"/><path d=\"M17.41 7.96l-1.37-1.37c-.4-.4-.92-.59-1.43-.59-.52 0-1.04.2-1.43.59L10.3 9.45l-7.72 7.72c-.78.78-.78 2.05 0 2.83L4 21.41c.39.39.9.59 1.41.59.51 0 1.02-.2 1.41-.59l7.78-7.78 2.81-2.81c.8-.78.8-2.07 0-2.86zM5.41 20L4 18.59l7.72-7.72 1.47 1.35L5.41 20z\"/>\n",
              "  </svg>\n",
              "      </button>\n",
              "      \n",
              "  <style>\n",
              "    .colab-df-container {\n",
              "      display:flex;\n",
              "      flex-wrap:wrap;\n",
              "      gap: 12px;\n",
              "    }\n",
              "\n",
              "    .colab-df-convert {\n",
              "      background-color: #E8F0FE;\n",
              "      border: none;\n",
              "      border-radius: 50%;\n",
              "      cursor: pointer;\n",
              "      display: none;\n",
              "      fill: #1967D2;\n",
              "      height: 32px;\n",
              "      padding: 0 0 0 0;\n",
              "      width: 32px;\n",
              "    }\n",
              "\n",
              "    .colab-df-convert:hover {\n",
              "      background-color: #E2EBFA;\n",
              "      box-shadow: 0px 1px 2px rgba(60, 64, 67, 0.3), 0px 1px 3px 1px rgba(60, 64, 67, 0.15);\n",
              "      fill: #174EA6;\n",
              "    }\n",
              "\n",
              "    [theme=dark] .colab-df-convert {\n",
              "      background-color: #3B4455;\n",
              "      fill: #D2E3FC;\n",
              "    }\n",
              "\n",
              "    [theme=dark] .colab-df-convert:hover {\n",
              "      background-color: #434B5C;\n",
              "      box-shadow: 0px 1px 3px 1px rgba(0, 0, 0, 0.15);\n",
              "      filter: drop-shadow(0px 1px 2px rgba(0, 0, 0, 0.3));\n",
              "      fill: #FFFFFF;\n",
              "    }\n",
              "  </style>\n",
              "\n",
              "      <script>\n",
              "        const buttonEl =\n",
              "          document.querySelector('#df-8f7cea0f-3e3b-4ba6-88d4-635f847fdda3 button.colab-df-convert');\n",
              "        buttonEl.style.display =\n",
              "          google.colab.kernel.accessAllowed ? 'block' : 'none';\n",
              "\n",
              "        async function convertToInteractive(key) {\n",
              "          const element = document.querySelector('#df-8f7cea0f-3e3b-4ba6-88d4-635f847fdda3');\n",
              "          const dataTable =\n",
              "            await google.colab.kernel.invokeFunction('convertToInteractive',\n",
              "                                                     [key], {});\n",
              "          if (!dataTable) return;\n",
              "\n",
              "          const docLinkHtml = 'Like what you see? Visit the ' +\n",
              "            '<a target=\"_blank\" href=https://colab.research.google.com/notebooks/data_table.ipynb>data table notebook</a>'\n",
              "            + ' to learn more about interactive tables.';\n",
              "          element.innerHTML = '';\n",
              "          dataTable['output_type'] = 'display_data';\n",
              "          await google.colab.output.renderOutput(dataTable, element);\n",
              "          const docLink = document.createElement('div');\n",
              "          docLink.innerHTML = docLinkHtml;\n",
              "          element.appendChild(docLink);\n",
              "        }\n",
              "      </script>\n",
              "    </div>\n",
              "  </div>\n",
              "  "
            ]
          },
          "metadata": {},
          "execution_count": 18
        }
      ]
    },
    {
      "cell_type": "code",
      "source": [
        "print(\"層別散布図例\")\n",
        "plt.xlim(0, 3000)\n",
        "plt.ylim(0, 800)\n",
        "sns.scatterplot(x = '貯蓄(万円)', y = '有価証券(万円)', hue='地区', data = savings_data) "
      ],
      "metadata": {
        "colab": {
          "base_uri": "https://localhost:8080/",
          "height": 318
        },
        "id": "3s6u-7SJlhiW",
        "outputId": "7dd60eed-f31e-46c3-acd5-e5df1d209061"
      },
      "execution_count": 23,
      "outputs": [
        {
          "output_type": "stream",
          "name": "stdout",
          "text": [
            "層別散布図例\n"
          ]
        },
        {
          "output_type": "execute_result",
          "data": {
            "text/plain": [
              "<matplotlib.axes._subplots.AxesSubplot at 0x7f7474c4fa50>"
            ]
          },
          "metadata": {},
          "execution_count": 23
        },
        {
          "output_type": "display_data",
          "data": {
            "text/plain": [
              "<Figure size 432x288 with 1 Axes>"
            ],
            "image/png": "[encoded data removed]"
          },
          "metadata": {
            "needs_background": "light"
          }
        }
      ]
    },
    {
      "cell_type": "markdown",
      "source": [
        "# 相関係数  \n",
        "**共分散**：2変数の関係の強さを測る指標  \n",
        "x,yの観測値の組からなるデータを(x1,y2),...(xn,yn)として  \n",
        "2変数の共分散Sxyは以下の式で定義される  \n",
        "2変数それぞれの偏差を求め2変数を掛け合わせて総和をとり観測値のn個で割る  \n",
        "共分散の**値が正なら**正の相関関係  \n",
        "共分散の**値が負なら**負の相関関係  \n",
        "共分散の**値が0に近いなら**無相関\n",
        "**注意点**：変数の単位の影響を受けてしまう。正の相関が無相関になったりする\n",
        "$$\n",
        "Sxy=\\frac{1}{n}\n",
        "\\sum_{i=1}^n{(x_i-\\bar{x})}{(y_1-\\bar{y})}\n",
        "$$  \n",
        "**相関係数**：標準偏差を求めることで単位の影響を受けずに相関関係を見つける  \n",
        "xの標準偏差をSx,yの標準偏差をSyとし相関係数rを以下の式で定義する  \n",
        "$$\n",
        "r=\\frac{\n",
        "  \\frac{1}{n}\n",
        "\\sum_{i=1}^n{(x_i-\\bar{x})}{(y_1-\\bar{y})}\n",
        "}\n",
        "{\n",
        "\\sqrt{\\frac{1}{n}\\sum_{i=1}^n{(x_i-\\bar{x})^2}}\n",
        "\\sqrt{\\frac{1}{n}\\sum_{i=1}^n{(y_i-\\bar{y})^2}}\n",
        "}\n",
        "=\\frac{Sxy}{SxSy}\n",
        "$$  \n",
        "$$\n",
        "相関係数=\\frac{共分散}{xy標準偏差}\n",
        "$$"
      ],
      "metadata": {
        "id": "jVvCbENiycTr"
      }
    },
    {
      "cell_type": "markdown",
      "source": [
        "# 相関係数の注意点  "
      ],
      "metadata": {
        "id": "FeUq8Mj_qhA9"
      }
    },
    {
      "cell_type": "markdown",
      "source": [
        "**相関係数の注意点**：相関係数の値だけで2変数の関係を判断するのはダメ  \n",
        "相関係数は直線的な関係を測る尺度であり2変数間の関係は必ずしも直線とは限らない  \n",
        "**外れ値と相関関係**：データに外れ値がある場合は注意が必要。外れ値だけで係数が変動する  "
      ],
      "metadata": {
        "id": "DQNm5atXqEqV"
      }
    },
    {
      "cell_type": "markdown",
      "source": [
        "# 相関と因果  "
      ],
      "metadata": {
        "id": "QJt5x6ror759"
      }
    },
    {
      "cell_type": "markdown",
      "source": [
        "**因果関係**：原因と結果の関係。原因→結果(矢印は一方方向)  \n",
        "**相関関係**：要素と要素がお互いに関係しあっている。要素→←要素(矢印は双方向)  \n",
        "**相関関係の中に因果関係？**：相関関係の中に因果関係があるわけではない。  \n",
        "お互いに関係しあっていても原因と結果の関係が必ず成り立つわけではない  \n",
        "**偽相関**：2変数x,y両方に影響を与える第3の変数zがあり  \n",
        "zのおかげでxとyの相関関係が成り立つ状況  \n"
      ],
      "metadata": {
        "id": "-yYyfriosEoM"
      }
    },
    {
      "cell_type": "markdown",
      "source": [
        "# **Part5**：回帰直線と予測  \n",
        "# この章での目的  \n",
        "説明変数と被説明変数を区別する  \n",
        "回帰直線を用意て予測する  \n",
        "最小二乗法の考え方を理解する  \n",
        "回帰直線と相関係数の関係を理解する  \n",
        "適切に回帰直線を用いる  "
      ],
      "metadata": {
        "id": "yLReJ10hwkgI"
      }
    },
    {
      "cell_type": "markdown",
      "source": [
        "# 回帰分析  "
      ],
      "metadata": {
        "id": "3zfk7QnbysNL"
      }
    },
    {
      "cell_type": "markdown",
      "source": [
        "**回帰分析**：変数xから変数yを予測すること  \n",
        "**説明変数**：予測対象の元となるデータ。ここでは変数yを予測するのでxが説明変数    \n",
        "**目的変数(被説明変数)**：予測対象。ここでは変数y  \n",
        "**回帰直線**：直線の式\n",
        "$$\n",
        "y=\\alpha+\\beta x\n",
        "$$  \n",
        "この時のアルファとベータを**回帰係数**という  \n",
        "**推定値**： 直線の式から求めたアルファとベータの値  \n",
        "**予測値**：推定値を使って導き出された値  \n"
      ],
      "metadata": {
        "id": "3vVcg9A1y-s5"
      }
    },
    {
      "cell_type": "markdown",
      "source": [
        "# 最小二乗法  "
      ],
      "metadata": {
        "id": "QG0k6Qht14kP"
      }
    },
    {
      "cell_type": "markdown",
      "source": [
        "****：  \n",
        "****：  \n",
        "****：  "
      ],
      "metadata": {
        "id": "B5ZNIUYIHd_q"
      }
    }
  ]
}