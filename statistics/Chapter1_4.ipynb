{
  "nbformat": 4,
  "nbformat_minor": 0,
  "metadata": {
    "colab": {
      "name": "Chapter1-4.ipynb",
      "provenance": [],
      "authorship_tag": "ABX9TyNiUsCb2lpLw6qKbNwUpxN5",
      "include_colab_link": true
    },
    "kernelspec": {
      "name": "python3",
      "display_name": "Python 3"
    },
    "language_info": {
      "name": "python"
    }
  },
  "cells": [
    {
      "cell_type": "markdown",
      "metadata": {
        "id": "view-in-github",
        "colab_type": "text"
      },
      "source": [
        "<a href=\"https://colab.research.google.com/github/sakuragi-zero/yatteiki/blob/master/statistics/Chapter1_4.ipynb\" target=\"_parent\"><img src=\"https://colab.research.google.com/assets/colab-badge.svg\" alt=\"Open In Colab\"/></a>"
      ]
    },
    {
      "cell_type": "markdown",
      "source": [
        "**kaggleのデータセットを使って表を表現しながら統計学に入門する**"
      ],
      "metadata": {
        "id": "zGuyWqxTIqYE"
      }
    },
    {
      "cell_type": "markdown",
      "source": [
        "# **Part1**  \n",
        "**この章での目的**  \n",
        "質的変数と量的変数の違いを理解する  \n",
        "質的変数の集計やグラフ表現を理解する  \n",
        "クロス集計を理解する  \n",
        "さまざまなグラフの特徴を理解し結果を解釈できる  \n",
        "分析の目的に合わせて適切なグラフを適応できる  \n",
        "時系列データの特徴を理解し、時間的な推移を理解できる  \n",
        "時系列データを適切にグラフに表すことができる  \n",
        "指数を用意て時系列データを解釈できる  \n",
        "**キーワード**  \n",
        "質的変数、量的変数  \n",
        "幹葉図  \n",
        "レーダーチャート  \n",
        "積み上げグラフ  \n",
        "時系列データ  \n",
        "指数"
      ],
      "metadata": {
        "id": "krj_G1VapOo6"
      }
    },
    {
      "cell_type": "markdown",
      "source": [
        "# データの種類  \n",
        "**質的変数**：カテゴリー  \n",
        "名義尺度：カテゴリー間に順序がない  \n",
        "順序尺度：カテゴリー間に順序がある  \n",
        "**量的変数**：数値  \n",
        "間隔尺度：数値との間隔に意味がある、西暦など  \n",
        "比例尺度：数値を数式で導くことができる  \n",
        "**離散変数**：整数  \n",
        "**連続変数**：少数点込み  \n",
        "**多変量データ**：2つ以上の変数を同時に扱う。身長と体重の同時測定  \n",
        "**時系列データ**：1つの変数に対して時間の変化による数値の変化に注目する  \n",
        "**パネルデータ**：複数の同一個体(同じ条件下)を複数時点にわたって観測されたデータ  \n",
        "**クロスセクションデータ**：ある時点での異なるデータを横断的に集めたデータ  \n"
      ],
      "metadata": {
        "id": "H5RSTtqHOtSA"
      }
    },
    {
      "cell_type": "markdown",
      "source": [
        "****：  \n",
        "****：  \n",
        "****：  "
      ],
      "metadata": {
        "id": "B5ZNIUYIHd_q"
      }
    },
    {
      "cell_type": "markdown",
      "source": [
        "# 質的変数の要約  \n",
        "**度数、頻度**：それぞれのカテゴリに属する観測値の個数  \n",
        "**クロス集計**：複数の項目を組み合わせて集計する"
      ],
      "metadata": {
        "id": "P6NzRJegTYfl"
      }
    },
    {
      "cell_type": "markdown",
      "source": [
        "# グラフによるデータの集約  \n",
        "**幹葉図**：データの大きさnが小さい時に使われる。ヒストグラムを縦にした感じ  \n",
        "**棒グラフ**：量の大小を比較する。棒の高さでそれぞれのカテゴリの量を表す  \n",
        "**円グラフ**：それぞれのカテゴリの全体に対する割合を表す  \n",
        "**帯グラフ**：内容は円グラフと同じ。複数のグループを比較したい時に使う  \n",
        "**折線グラフ**：数量の時間的変化を表す  \n",
        "**レーダーチャート**：複数の値をまとめて表現する"
      ],
      "metadata": {
        "id": "cbOTfeCBKe7S"
      }
    },
    {
      "cell_type": "markdown",
      "source": [
        "# グラフ表現の工夫と注意点  \n",
        "**雨温図**：気温を折線グラフで表し降水量を棒グラフで表す  \n",
        "**積み上げ棒グラフ**：地層に似たグラフ。複数のカテゴリを並べ各度数を縦に積み上げる  \n",
        "**複数の帯グラフ**：帯グラフを並べて比較する  \n",
        "**誤解を招きやすいグラフ表現**：目盛りの縦軸が0から始まっていない"
      ],
      "metadata": {
        "id": "iBdsA3XvOdrU"
      }
    },
    {
      "cell_type": "markdown",
      "source": [
        "# 時系列データの要約  \n",
        "**時系列データのグラフ表現**：折線グラフを使って表す  \n",
        "**変化率**：現時点の値 - 前時点の値 / 前時点の値  \n"
      ],
      "metadata": {
        "id": "6ij6OtnRR1_P"
      }
    },
    {
      "cell_type": "markdown",
      "source": [
        "# 時系列グラフ作成上の注意点\n",
        "**時間間隔に注意を払う**：時間の間隔によってグラフの見え方が違う  \n",
        "**時系列データに対数を利用する**：データを変換して対数変換する。縦軸を0〜300→0〜30  "
      ],
      "metadata": {
        "id": "wEDtXHc4ZjtN"
      }
    },
    {
      "cell_type": "markdown",
      "source": [
        "# **Part2**  \n",
        "**この章での目的**  \n",
        "連続的な量的変数について、度数分布表の作成と意味を理解する  \n",
        "ヒストグラムの作成方法と意味を理解する  \n",
        "度数分布やヒストグラムを用いて、分布の様子を調べる  \n",
        "相対度数と累積相対度数の関係を理解する  \n",
        "データの分布の特徴を表す5つの数値を求め分布を要約する  \n",
        "箱ひげ図で分布の情報を理解し、異なる集団の分布を比較する  \n",
        "データの散らばりの尺度を理解し、データの散らばりを把握する  \n",
        "**キーワード**  \n",
        "階級と階級値  \n",
        "度数と相対度数  \n",
        "度数分布とヒストグラム、度数分布多角形  \n",
        "分位数、四分位数  \n",
        "5数要素  \n",
        "範囲、四分位範囲  \n",
        "箱ひげ図、平行箱ひげ図"
      ],
      "metadata": {
        "id": "ZasiiOtGreXz"
      }
    },
    {
      "cell_type": "markdown",
      "source": [
        "# 量的変数の要約方法  \n"
      ],
      "metadata": {
        "id": "7HFcTY6go8yD"
      }
    }
  ]
}