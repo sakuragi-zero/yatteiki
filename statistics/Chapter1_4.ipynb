{
  "nbformat": 4,
  "nbformat_minor": 0,
  "metadata": {
    "colab": {
      "name": "Chapter1-4.ipynb",
      "provenance": [],
      "collapsed_sections": [],
      "authorship_tag": "ABX9TyM1Uahs+KB6jre+ysgGcTpb",
      "include_colab_link": true
    },
    "kernelspec": {
      "name": "python3",
      "display_name": "Python 3"
    },
    "language_info": {
      "name": "python"
    }
  },
  "cells": [
    {
      "cell_type": "markdown",
      "metadata": {
        "id": "view-in-github",
        "colab_type": "text"
      },
      "source": [
        "<a href=\"https://colab.research.google.com/github/sakuragi-zero/yatteiki/blob/master/statistics/Chapter1_4.ipynb\" target=\"_parent\"><img src=\"https://colab.research.google.com/assets/colab-badge.svg\" alt=\"Open In Colab\"/></a>"
      ]
    },
    {
      "cell_type": "code",
      "source": [
        "! pip install -q japanize_matplotlib"
      ],
      "metadata": {
        "colab": {
          "base_uri": "https://localhost:8080/"
        },
        "id": "hC-x9K7r0SWo",
        "outputId": "23af57d5-ede5-4769-f8d0-a7b447904cd5"
      },
      "execution_count": 1,
      "outputs": [
        {
          "output_type": "stream",
          "name": "stdout",
          "text": [
            "\u001b[K     |████████████████████████████████| 4.1 MB 13.9 MB/s \n",
            "\u001b[?25h  Building wheel for japanize-matplotlib (setup.py) ... \u001b[?25l\u001b[?25hdone\n"
          ]
        }
      ]
    },
    {
      "cell_type": "code",
      "source": [
        "import numpy as np\n",
        "import pandas as pd\n",
        "import matplotlib.pyplot as plt\n",
        "from sklearn.linear_model import LinearRegression\n",
        "from matplotlib.font_manager import FontProperties\n",
        "import japanize_matplotlib"
      ],
      "metadata": {
        "id": "GAeAKX-pcrCI"
      },
      "execution_count": 2,
      "outputs": []
    },
    {
      "cell_type": "markdown",
      "source": [
        "フォントは手動でインストールするのか？"
      ],
      "metadata": {
        "id": "APN82xCP6uIy"
      }
    },
    {
      "cell_type": "markdown",
      "source": [
        "**kaggleのデータセットを使って表を表現しながら統計学に入門する**"
      ],
      "metadata": {
        "id": "zGuyWqxTIqYE"
      }
    },
    {
      "cell_type": "markdown",
      "source": [
        "# **Part1**：**データの種類とグラフ表現**  \n",
        "**この章での目標**  \n",
        "質的変数と量的変数の違いを理解する  \n",
        "質的変数の集計やグラフ表現を理解する  \n",
        "クロス集計を理解する  \n",
        "さまざまなグラフの特徴を理解し結果を解釈できる  \n",
        "分析の目的に合わせて適切なグラフを適応できる  \n",
        "時系列データの特徴を理解し、時間的な推移を理解できる  \n",
        "時系列データを適切にグラフに表すことができる  \n",
        "指数を用意て時系列データを解釈できる  \n",
        "**キーワード**  \n",
        "質的変数、量的変数  \n",
        "幹葉図  \n",
        "レーダーチャート  \n",
        "積み上げグラフ  \n",
        "時系列データ  \n",
        "指数"
      ],
      "metadata": {
        "id": "krj_G1VapOo6"
      }
    },
    {
      "cell_type": "markdown",
      "source": [
        "# データの種類  \n",
        "**質的変数**：カテゴリー  \n",
        "名義尺度：カテゴリー間に順序がない  \n",
        "順序尺度：カテゴリー間に順序がある  \n",
        "**量的変数**：数値  \n",
        "間隔尺度：数値との間隔に意味がある、西暦など  \n",
        "比例尺度：数値を数式で導くことができる  \n",
        "**離散変数**：整数  \n",
        "**連続変数**：少数点込み  \n",
        "**多変量データ**：2つ以上の変数を同時に扱う。身長と体重の同時測定  \n",
        "**時系列データ**：1つの変数に対して時間の変化による数値の変化に注目する  \n",
        "**パネルデータ**：複数の同一個体(同じ条件下)を複数時点にわたって観測されたデータ  \n",
        "**クロスセクションデータ**：ある時点での異なるデータを横断的に集めたデータ  \n"
      ],
      "metadata": {
        "id": "H5RSTtqHOtSA"
      }
    },
    {
      "cell_type": "markdown",
      "source": [
        "****：  \n",
        "****：  \n",
        "****：  "
      ],
      "metadata": {
        "id": "B5ZNIUYIHd_q"
      }
    },
    {
      "cell_type": "markdown",
      "source": [
        "# 質的変数の要約  \n",
        "**度数、頻度**：それぞれのカテゴリに属する観測値の個数  \n",
        "**クロス集計**：複数の項目を組み合わせて集計する"
      ],
      "metadata": {
        "id": "P6NzRJegTYfl"
      }
    },
    {
      "cell_type": "code",
      "source": [
        "data = pd.DataFrame(data={\n",
        "  '支持政党': ['自民党','立憲民主党','公明党','共産党','日本維新の会','国民民主党','社民党','その他','支持なし','わからない・無回答','合計'],\n",
        "  '度数':     [689,    124,       99,    60,     47,          33,        10,     21,    812,      165,              2060]\n",
        "},\n",
        "index=['自民党','立憲民主党','公明党','共産党','日本維新の会','国民民主党','社民党','その他','支持なし','わからない・無回答','合計'],\n",
        "columns=['支持政党','度数'])\n",
        "df=data.style.hide_index()\n",
        "df\n",
        "#今回は後のグラフのことを考えてindexの指定とstyle.hide_indexを使用している"
      ],
      "metadata": {
        "colab": {
          "base_uri": "https://localhost:8080/",
          "height": 394
        },
        "id": "PRZEorTeufBz",
        "outputId": "db432c25-bafe-49f1-b2e0-33872336466d"
      },
      "execution_count": 17,
      "outputs": [
        {
          "output_type": "execute_result",
          "data": {
            "text/plain": [
              "<pandas.io.formats.style.Styler at 0x7f6d9676f850>"
            ],
            "text/html": [
              "<style type=\"text/css\">\n",
              "</style>\n",
              "<table id=\"T_f596c_\" class=\"dataframe\">\n",
              "  <thead>\n",
              "    <tr>\n",
              "      <th class=\"col_heading level0 col0\" >支持政党</th>\n",
              "      <th class=\"col_heading level0 col1\" >度数</th>\n",
              "    </tr>\n",
              "  </thead>\n",
              "  <tbody>\n",
              "    <tr>\n",
              "      <td id=\"T_f596c_row0_col0\" class=\"data row0 col0\" >自民党</td>\n",
              "      <td id=\"T_f596c_row0_col1\" class=\"data row0 col1\" >689</td>\n",
              "    </tr>\n",
              "    <tr>\n",
              "      <td id=\"T_f596c_row1_col0\" class=\"data row1 col0\" >立憲民主党</td>\n",
              "      <td id=\"T_f596c_row1_col1\" class=\"data row1 col1\" >124</td>\n",
              "    </tr>\n",
              "    <tr>\n",
              "      <td id=\"T_f596c_row2_col0\" class=\"data row2 col0\" >公明党</td>\n",
              "      <td id=\"T_f596c_row2_col1\" class=\"data row2 col1\" >99</td>\n",
              "    </tr>\n",
              "    <tr>\n",
              "      <td id=\"T_f596c_row3_col0\" class=\"data row3 col0\" >共産党</td>\n",
              "      <td id=\"T_f596c_row3_col1\" class=\"data row3 col1\" >60</td>\n",
              "    </tr>\n",
              "    <tr>\n",
              "      <td id=\"T_f596c_row4_col0\" class=\"data row4 col0\" >日本維新の会</td>\n",
              "      <td id=\"T_f596c_row4_col1\" class=\"data row4 col1\" >47</td>\n",
              "    </tr>\n",
              "    <tr>\n",
              "      <td id=\"T_f596c_row5_col0\" class=\"data row5 col0\" >国民民主党</td>\n",
              "      <td id=\"T_f596c_row5_col1\" class=\"data row5 col1\" >33</td>\n",
              "    </tr>\n",
              "    <tr>\n",
              "      <td id=\"T_f596c_row6_col0\" class=\"data row6 col0\" >社民党</td>\n",
              "      <td id=\"T_f596c_row6_col1\" class=\"data row6 col1\" >10</td>\n",
              "    </tr>\n",
              "    <tr>\n",
              "      <td id=\"T_f596c_row7_col0\" class=\"data row7 col0\" >その他</td>\n",
              "      <td id=\"T_f596c_row7_col1\" class=\"data row7 col1\" >21</td>\n",
              "    </tr>\n",
              "    <tr>\n",
              "      <td id=\"T_f596c_row8_col0\" class=\"data row8 col0\" >支持なし</td>\n",
              "      <td id=\"T_f596c_row8_col1\" class=\"data row8 col1\" >812</td>\n",
              "    </tr>\n",
              "    <tr>\n",
              "      <td id=\"T_f596c_row9_col0\" class=\"data row9 col0\" >わからない・無回答</td>\n",
              "      <td id=\"T_f596c_row9_col1\" class=\"data row9 col1\" >165</td>\n",
              "    </tr>\n",
              "    <tr>\n",
              "      <td id=\"T_f596c_row10_col0\" class=\"data row10 col0\" >合計</td>\n",
              "      <td id=\"T_f596c_row10_col1\" class=\"data row10 col1\" >2060</td>\n",
              "    </tr>\n",
              "  </tbody>\n",
              "</table>\n"
            ]
          },
          "metadata": {},
          "execution_count": 17
        }
      ]
    },
    {
      "cell_type": "code",
      "source": [
        "data[:10].plot.bar(\n",
        "  y='度数'\n",
        ")"
      ],
      "metadata": {
        "colab": {
          "base_uri": "https://localhost:8080/",
          "height": 363
        },
        "id": "uMOqcKk216lR",
        "outputId": "005e54c5-bc47-4b9a-e65b-b80c02b8df78"
      },
      "execution_count": 18,
      "outputs": [
        {
          "output_type": "execute_result",
          "data": {
            "text/plain": [
              "<matplotlib.axes._subplots.AxesSubplot at 0x7f6d963c1dd0>"
            ]
          },
          "metadata": {},
          "execution_count": 18
        },
        {
          "output_type": "display_data",
          "data": {
            "text/plain": [
              "<Figure size 432x288 with 1 Axes>"
            ],
            "image/png": "[encoded data removed]"
          },
          "metadata": {
            "needs_background": "light"
          }
        }
      ]
    },
    {
      "cell_type": "markdown",
      "source": [
        "# グラフによるデータの集約  \n",
        "**幹葉図**：データの大きさnが小さい時に使われる。ヒストグラムを縦にした感じ  \n",
        "**棒グラフ**：量の大小を比較する。棒の高さでそれぞれのカテゴリの量を表す  \n",
        "**円グラフ**：それぞれのカテゴリの全体に対する割合を表す  \n",
        "**帯グラフ**：内容は円グラフと同じ。複数のグループを比較したい時に使う  \n",
        "**折線グラフ**：数量の時間的変化を表す  \n",
        "**レーダーチャート**：複数の値をまとめて表現する"
      ],
      "metadata": {
        "id": "cbOTfeCBKe7S"
      }
    },
    {
      "cell_type": "code",
      "source": [
        "data[:10].plot.pie(y='度数', figsize=(6, 6),ylabel='',fontsize=10,legend=False)#legend=Falseで凡例を消す"
      ],
      "metadata": {
        "colab": {
          "base_uri": "https://localhost:8080/",
          "height": 375
        },
        "id": "6TdUvrrcyqR5",
        "outputId": "50b73387-488c-4dc8-d896-7fee751442a2"
      },
      "execution_count": 44,
      "outputs": [
        {
          "output_type": "execute_result",
          "data": {
            "text/plain": [
              "<matplotlib.axes._subplots.AxesSubplot at 0x7f6d9550c6d0>"
            ]
          },
          "metadata": {},
          "execution_count": 44
        },
        {
          "output_type": "display_data",
          "data": {
            "text/plain": [
              "<Figure size 432x432 with 1 Axes>"
            ],
            "image/png": "[encoded data removed]"
          },
          "metadata": {}
        }
      ]
    },
    {
      "cell_type": "markdown",
      "source": [
        "# グラフ表現の工夫と注意点  \n",
        "**雨温図**：気温を折線グラフで表し降水量を棒グラフで表す  \n",
        "**積み上げ棒グラフ**：地層に似たグラフ。複数のカテゴリを並べ各度数を縦に積み上げる  \n",
        "**複数の帯グラフ**：帯グラフを並べて比較する  \n",
        "**誤解を招きやすいグラフ表現**：目盛りの縦軸が0から始まっていない"
      ],
      "metadata": {
        "id": "iBdsA3XvOdrU"
      }
    },
    {
      "cell_type": "markdown",
      "source": [
        "# 時系列データの要約  \n",
        "**時系列データのグラフ表現**：折線グラフを使って表す  \n",
        "**変化率**：現時点の値 - 前時点の値 / 前時点の値  \n"
      ],
      "metadata": {
        "id": "6ij6OtnRR1_P"
      }
    },
    {
      "cell_type": "markdown",
      "source": [
        "# 時系列グラフ作成上の注意点\n",
        "**時間間隔に注意を払う**：時間の間隔によってグラフの見え方が違う  \n",
        "**時系列データに対数を利用する**：データを変換して対数変換する。縦軸を0〜300→0〜30  "
      ],
      "metadata": {
        "id": "wEDtXHc4ZjtN"
      }
    },
    {
      "cell_type": "markdown",
      "source": [
        "# **Part2**：量的変数の要約方法  \n",
        "**この章での目標**  \n",
        "連続的な量的変数について、度数分布表の作成と意味を理解する  \n",
        "ヒストグラムの作成方法と意味を理解する  \n",
        "度数分布やヒストグラムを用いて、分布の様子を調べる  \n",
        "相対度数と累積相対度数の関係を理解する  \n",
        "データの分布の特徴を表す5つの数値を求め分布を要約する  \n",
        "箱ひげ図で分布の情報を理解し、異なる集団の分布を比較する  \n",
        "データの散らばりの尺度を理解し、データの散らばりを把握する  \n",
        "**キーワード**  \n",
        "階級と階級値  \n",
        "度数と相対度数  \n",
        "度数分布とヒストグラム、度数分布多角形  \n",
        "分位数、四分位数  \n",
        "5数要素  \n",
        "範囲、四分位範囲  \n",
        "箱ひげ図、平行箱ひげ図"
      ],
      "metadata": {
        "id": "ZasiiOtGreXz"
      }
    },
    {
      "cell_type": "markdown",
      "source": [
        "# 度数分布表の作成  \n",
        "**階級**：変数が取る値の範囲をグループ分けした、それぞれの区間  \n",
        "**階級の度数、頻度**：階級に含まれる観測値の個数  \n",
        "**度数分布**：階級ごとに度数を整理したもの  \n",
        "**度数分布表**：度数分布を表にしたもの  \n",
        "**階級の代表値、階級値**：各階級を代表する値、平均値や中央値などが多い  \n",
        "**相対度数**：各階級の度数の全体に対する割合。階級の度数 / 度数の合計  \n",
        "**累積相対度数**：度数または相対度数を小さい階級から合計して得られる  "
      ],
      "metadata": {
        "id": "7HFcTY6go8yD"
      }
    },
    {
      "cell_type": "markdown",
      "source": [
        "# ヒストグラムと度数分布多角形  \n",
        "**ヒストグラム**：度数分布をグラフ化する。面積が度数と比例する  "
      ],
      "metadata": {
        "id": "hcFQ8UFwez7W"
      }
    },
    {
      "cell_type": "markdown",
      "source": [
        "# 分布の特徴の把握  \n",
        "**正規分布**：左右対称の分布  \n",
        "**外れ値**：極端に大きい値や極端に小さな値  "
      ],
      "metadata": {
        "id": "KdVFNRhVf_0N"
      }
    },
    {
      "cell_type": "markdown",
      "source": [
        "# 分位数と5数要約  \n",
        "**分位数**：データを小さい順に並べ替えてデータの数で等分した時の区切りの値  \n",
        "**四分位数**：分位数を求める時に四等分する。第1四分位数(Q1)と表す  \n",
        "**累積度数分布**：度数を累積(積み上げて)100%に近づいていくグラフ  \n",
        "**5数要約**：最小値、最大値、第1四分位数、第2四分位数、第3四分位数  \n",
        "**第1四分位数**：第2四分位数から最小値までの範囲の中央値。**全体の25%**  \n",
        "**第2四分位数**：最小値から最大値までの範囲の中央値。**全体の50%**  \n",
        "**第3四分位数**：第2四分位数から最大値までの範囲の中央値。**全体の75%**  \n",
        "**四分位範囲**：第3四分位数 - 第1四分位数(Q3 - Q1)値が大きいほど観測値が散らばっている  "
      ],
      "metadata": {
        "id": "FmijLc6ayoKs"
      }
    },
    {
      "cell_type": "markdown",
      "source": [
        "# 箱ひげ図  \n",
        "**箱ひげ図**：5要約数を図にしたもの。四分位範囲が箱の形をしている  \n"
      ],
      "metadata": {
        "id": "MMoOL5_w3h0k"
      }
    },
    {
      "cell_type": "markdown",
      "source": [
        "# **Part3**：1変数データの分析 \n",
        "**この章での目標**  \n",
        "分布の位置を表す代表値の意味を理解する  \n",
        "3つの位置の代表値の適切な使い方を理解する  \n",
        "位置の代表値を用いて分布の様子を把握する  \n",
        "個々の観測値の散らばりの程度の概念を理解する  \n",
        "データの散らばりの程度を表す尺度を求める  \n",
        "散らばりの尺度を用いて分布の特徴を把握する  \n",
        "**キーワード**  \n",
        "位置の尺度：平均値、中央値、最頻値  \n",
        "偏差、平均偏差、分散と標準偏差  \n",
        "変動係数  \n",
        "変数の変換(1次式による変換)と平均値、分散、標準偏差  \n",
        "標準化  \n",
        "探索的データ解析と外れ値"
      ],
      "metadata": {
        "id": "JFB8Hgf3-olJ"
      }
    },
    {
      "cell_type": "markdown",
      "source": [
        "# 位置に関する代表値  \n",
        "**平均値**：広く用いられる位置の代表値。外れ値の影響を受けやすい  \n",
        "$$\n",
        "\\bar{x}=\\frac{観測値の合計}{観測値の個数}=\\frac{x_1+x_2+x_3+x_n}{n}=\\frac{1}{n}=\\sum_{i=1}^n{x_i}\n",
        "$$\n",
        "**中央値**：観測値を大きい順に並べた時に真ん中に位置する観測値。  \n",
        "外れ値の影響を受けにくい。観測値が偶数の場合は真ん中2つの平均を取る  \n",
        "**最頻値**：最も頻繁に出現する値。最頻値はヒストグラムで最も高くなる  \n",
        "**3つの位置の代表値の大小関係**：右の裾が長い分布では最頻値＜中央値＜平均値  "
      ],
      "metadata": {
        "id": "uvF2vNYxA-qg"
      }
    },
    {
      "cell_type": "markdown",
      "source": [
        "**度数分布表からの平均値の計算**：個々の観測値を特定できず度数分布だけが  \n",
        "与えられた場合、平均値を求めたいことがある。  \n",
        "それぞれの階級で代表値 × 度数を計算し  \n",
        "その合計を度数の合計で割ったものを平均値とする  \n",
        "階級の数をk、各階級の代表値をm1,m2,m3...,度数をf1,f2,f3...  \n",
        "\n",
        "データの大きさは  \n",
        "$$\n",
        "n=f_1+f_2+f_3...+f_k=\\sum_{j=1}^k{f_j}\n",
        "$$  \n",
        "\n",
        "であり度数分布から求めた平均値は  \n",
        "$$\n",
        "\\frac{m_1f_1+m_2f_2+...+m_k}{n}=\\frac{\\displaystyle \\sum_{j=1}^k{m_jf_j}}{\\displaystyle \\sum_{j=1}^k{f_j}}\n",
        "$$  \n",
        "このようにして計算した平均値は個々の観測値が利用できる場合の平均値の近似である"
      ],
      "metadata": {
        "id": "w-fOvqDTZV13"
      }
    },
    {
      "cell_type": "markdown",
      "source": [
        "# 観測値の散らばりの尺度  \n",
        "**偏差**：平均からどれだけ離れているか。偏差の合計と平均は常に0  \n",
        "$$\n",
        "偏差=観測値-平均値={x_i}-\\bar{x}\n",
        "$$  \n",
        "**平均偏差**：データ全体の散らばりを考える時に偏差の絶対値の平均値を取る  \n",
        "$$\n",
        "\\frac{1}{n}\\sum_{i=1}^n{|x_i-\\bar{x}|}\n",
        "$$  \n",
        "**分散**：偏差を平方した値の平均値\n",
        "$$\n",
        "\\frac{1}{n}\\sum_{i=1}^n{(x_i-\\bar{x})^2}\n",
        "$$  \n",
        "**標準偏差**：分散では平均値とは単位が異なり解釈難しいので分散の正の平方根を取る  \n",
        "分散、標準偏差、平均偏差は範囲や四分位範囲と同様にデータの散らばりを表す"
      ],
      "metadata": {
        "id": "b0sX6PWMNFWE"
      }
    },
    {
      "cell_type": "markdown",
      "source": [
        "# 変数の変換と平均値、分散、標準偏差  \n",
        "**仮平均**：仮の平均値を置いてから正しい平均値を計算する  \n",
        "**偏差平方和**：分散をnで割らなかったもの。仮平均を使用する時に有効    \n",
        "**変数の標準化**：身長と体重など単位の異なる変数の  \n",
        "平均値や標準偏差を比較しても意味がない。  \n",
        "このような場合にデータの標準化を行い統一した基準で比較する  \n",
        "変数の標準化は各観測値xi、i=1...、nに対して処理を施しziを求める  \n",
        "$$\n",
        "{z_i}=\\frac{観測値-平均値}{標準偏差}=\\frac{x_i-\\bar{x}}{s}\n",
        "$$  \n",
        "標準化された値をzスコアという。 平均値は0、標準偏差は1の無名数になる  \n",
        "**変動係数**：平均値に対するデータとばらつきの関係を相対的に評価するための値のこと  \n",
        "単位を持たない無次元の数値  \n",
        "$$\n",
        "変動係数=\\frac{標準偏差}{平均値}\n",
        "$$  \n"
      ],
      "metadata": {
        "id": "75N5hBpmlB6H"
      }
    },
    {
      "cell_type": "markdown",
      "source": [
        "# 探索的データ解析法と外れ値  \n",
        "**EDA**：外れ値の影響を受けずらく、簡単な方法でデータを探索する手法  "
      ],
      "metadata": {
        "id": "rWqdwrsncE7Y"
      }
    },
    {
      "cell_type": "markdown",
      "source": [
        "# **Part4**：2変数データの分析  \n",
        "**この章での目標**\n",
        "2変数データの分析を理解する  \n",
        "2つの変数の関係を表や図を用いて表現することができる  \n",
        "2つの変数の相関関係を数式で表現することができる  \n",
        "散布図と相関関係の関係を理解する  \n",
        "相関関係を正しく用いることができる  \n",
        "**キーワード**  \n",
        "2変数の度数分布表  \n",
        "散布図、層別散布図  \n",
        "相関関係  \n",
        "正の相関、負の相関、無相関  \n",
        "共分散  \n",
        "相関係数  \n",
        "非線形性、擬相関、外れ値、欠損値  \n",
        "相関と因果"
      ],
      "metadata": {
        "id": "41uVilb1V8UD"
      }
    },
    {
      "cell_type": "markdown",
      "source": [
        "# 2つの変数の関係  \n",
        "**質的変数**： \n",
        "****：  \n",
        "****：  "
      ],
      "metadata": {
        "id": "XSs_01p9Zq3h"
      }
    }
  ]
}