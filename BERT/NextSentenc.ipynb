{
  "cells": [
    {
      "cell_type": "markdown",
      "metadata": {
        "id": "view-in-github",
        "colab_type": "text"
      },
      "source": [
        "<a href=\"https://colab.research.google.com/github/sakuragi-zero/yatteiki/blob/master/BERT/NextSentenc.ipynb\" target=\"_parent\"><img src=\"https://colab.research.google.com/assets/colab-badge.svg\" alt=\"Open In Colab\"/></a>"
      ]
    },
    {
      "cell_type": "code",
      "execution_count": null,
      "metadata": {
        "id": "f8Yl6a2E0hfM"
      },
      "outputs": [],
      "source": [
        "import torch\n",
        "from pytorch_transformers import BertForMaskedLM\n",
        "from pytorch_transformers import BertTokenizer"
      ]
    },
    {
      "cell_type": "code",
      "execution_count": null,
      "metadata": {
        "id": "44Ba9WWN0hfP"
      },
      "outputs": [],
      "source": [
        "from pytorch_transformers import BertForNextSentencePrediction"
      ]
    },
    {
      "cell_type": "code",
      "execution_count": null,
      "metadata": {
        "id": "armX3ted0hfP",
        "outputId": "e4077d0e-88f7-4eda-deda-9954c389b206"
      },
      "outputs": [
        {
          "name": "stdout",
          "output_type": "stream",
          "text": [
            "tensor([[9.9999e-01, 7.0239e-06]], grad_fn=<SoftmaxBackward>)\n",
            "99.99929666519165%で連続しています！！\n"
          ]
        }
      ],
      "source": [
        "text = \"[CLS] What is baseball ? [SEP] It is a game of hittng tha with the bat [SEP]\"\n",
        "seg_ids = [0,0,0,0,0,0,1,1,1,1,1,1,1,1,1,1,1,1,1]#0が前の文章1が後の文章\n",
        "\n",
        "tokenizer = BertTokenizer.from_pretrained(\"bert-base-uncased\")\n",
        "\n",
        "words = tokenizer.tokenize(text)\n",
        "word_ids = tokenizer.convert_tokens_to_ids(words)#単語をインデックス化\n",
        "word_tensor = torch.tensor([word_ids])#テンソル化\n",
        "\n",
        "seg_tensor = torch.tensor([seg_ids])\n",
        "\n",
        "nsp_model = BertForNextSentencePrediction.from_pretrained(\"bert-base-uncased\")\n",
        "nsp_model.eval()\n",
        "\n",
        "x = word_tensor\n",
        "s = seg_tensor\n",
        "\n",
        "y = nsp_model(x,s)#予測\n",
        "result = torch.softmax(y[0], dim=1)\n",
        "print(result)#softmaxで確率に\n",
        "print(str(result[0][0].item()*100)+\"%で連続しています！！\")\n",
        "\n"
      ]
    },
    {
      "cell_type": "markdown",
      "metadata": {
        "id": "oxk49fYr0hfT"
      },
      "source": [
        "トークナイザーを使うときは宣言が必要なので忘れずに宣言する\n",
        "①tokenizer = BertTokenizer.from_pretrained(\"bert-base-uncased\")\n",
        "これでトークナイザーが使えるようになるので使う前に一文を追加しよう\n",
        "②words = tokenizer.tokenize(text)\n",
        "テキストをトークナイザーに変換\n",
        "③テキスト(words)→インデックス化(word_ids)→テンソル化(word_tensor)\n",
        "一通りテキストをテンソル化できたらseg_idsもテンソル化する\n",
        "④seg_tensor = torch.tensor([seg_ids])\n",
        "テンソル化できたらネクストプレディクションで予測する\n",
        "⑤nsp_model = BertForNextSentencePrediction.from_pretrained(\"bert-base-uncased\")\n",
        "nsp_model.eval()\n",
        "nsp_modelにモデルを格納してevalでテストモードを指定\n",
        "⑥x = word_tensor\n",
        "　s = seg_tensor\n",
        "segとwordをx,sに格納して計算を行う\n",
        "y = nsp_model(x,s)#予測\n",
        "⑦リザルト時にsoftmax関数をかけて確率に直して出力\n",
        "result = torch.softmax(y[0], dim=1)\n",
        "print(result)#softmaxで確率に\n",
        "print(str(result[0][0].item()*100)+\"%で連続しています！！\")"
      ]
    }
  ],
  "metadata": {
    "kernelspec": {
      "display_name": "Python 3.8.2  ('BT': venv)",
      "name": "pythonjvsc74a57bd063852291f8c4a68749fa18d2d71a3b435c3a94e3281432cd411943a4b6b3aaa0"
    },
    "language_info": {
      "name": "python",
      "version": ""
    },
    "metadata": {
      "interpreter": {
        "hash": "63852291f8c4a68749fa18d2d71a3b435c3a94e3281432cd411943a4b6b3aaa0"
      }
    },
    "orig_nbformat": 2,
    "colab": {
      "name": "NextSentenc.ipynb",
      "provenance": [],
      "include_colab_link": true
    }
  },
  "nbformat": 4,
  "nbformat_minor": 0
}