{
  "nbformat": 4,
  "nbformat_minor": 0,
  "metadata": {
    "colab": {
      "name": "GPT2.ipynb",
      "private_outputs": true,
      "provenance": [],
      "collapsed_sections": [],
      "machine_shape": "hm",
      "include_colab_link": true
    },
    "kernelspec": {
      "name": "python3",
      "display_name": "Python 3"
    },
    "language_info": {
      "name": "python"
    },
    "accelerator": "GPU"
  },
  "cells": [
    {
      "cell_type": "markdown",
      "metadata": {
        "id": "view-in-github",
        "colab_type": "text"
      },
      "source": [
        "<a href=\"https://colab.research.google.com/github/sakuragi-zero/yatteiki/blob/master/NLP/GPT2/GPT2.ipynb\" target=\"_parent\"><img src=\"https://colab.research.google.com/assets/colab-badge.svg\" alt=\"Open In Colab\"/></a>"
      ]
    },
    {
      "cell_type": "code",
      "metadata": {
        "id": "d_zMixSXi5gI"
      },
      "source": [
        "#from google.colab import drive\n",
        "#drive.mount('/content/drive')\n",
        "#!mkdir -p '/content/drive/My Drive/NLP/GPT2rinna'\n",
        "#%cd '/content/drive/My Drive/NLP/GPT2rinna'"
      ],
      "execution_count": null,
      "outputs": []
    },
    {
      "cell_type": "code",
      "metadata": {
        "id": "71csactrMKwv"
      },
      "source": [
        "!pip install sentencepiece==0.1.91"
      ],
      "execution_count": null,
      "outputs": []
    },
    {
      "cell_type": "code",
      "metadata": {
        "id": "nVMpvPV5_D82"
      },
      "source": [
        "!pip install datasets==1.2.1"
      ],
      "execution_count": null,
      "outputs": []
    },
    {
      "cell_type": "code",
      "metadata": {
        "id": "1Fr6-bsmTf0y"
      },
      "source": [
        "!pip install transformers"
      ],
      "execution_count": null,
      "outputs": []
    },
    {
      "cell_type": "code",
      "metadata": {
        "id": "jckkAauTNjj6"
      },
      "source": [
        "#import torch\n",
        "#from transformers import T5Tokenizer, AutoModelForCausalLM\n",
        "\n",
        "# トークナイザーとモデルの準備\n",
        "#tokenizer = T5Tokenizer.from_pretrained(\"rinna/japanese-gpt2-medium\")\n",
        "#model = AutoModelForCausalLM.from_pretrained(\"rinna/japanese-gpt2-medium\")\n",
        "#テキストの準備(2)\n",
        "#text =\"あそぼう\"\n",
        "#テキストをテンソルに変換(3)\n",
        "#input = tokenizer.encode(text,return_tensors=\"pt\")\n",
        "\n",
        "#推論(4)\n",
        "#model.eval()\n",
        "#with torch.no_grad():\n",
        "#  output = model.generate(input, do_sample=True, max_length=10, num_return_sequences=1)\n",
        "#  print(tokenizer.batch_decode(output))"
      ],
      "execution_count": null,
      "outputs": []
    },
    {
      "cell_type": "markdown",
      "metadata": {
        "id": "-gIxJEWLYkyb"
      },
      "source": [
        "事前学習済みモデルの確認が終わったので次にデータセットの準備をします\n",
        "本来なら、会話ゲームの「あかねとーく」の会話データを使う。今回は独自のデータセット  \n",
        "データセットはlanguage-modelingに入れます"
      ]
    },
    {
      "cell_type": "code",
      "metadata": {
        "id": "Si3kWnF8J3IF"
      },
      "source": [
        "#import random \n",
        "#ds = []\n",
        "#with open(\"dataset_plain.txt\") as f:\n",
        "#  for line in f.readlines():\n",
        "#    ds.append(line)\n",
        "\n",
        "#シャッフル\n",
        "#random.shuffle(ds)\n",
        "\n",
        "#ファイルを分割して保存\n",
        "#num = len(ds)\n",
        "#with open(\"train.txt\", mode=\"w\") as f:\n",
        "#  f.writelines(ds[:int(num*0.8)])\n",
        "#with open(\"dev.txt\", mode=\"w\") as f:\n",
        "# f.writelines(ds[int(num*0.8):])"
      ],
      "execution_count": null,
      "outputs": []
    },
    {
      "cell_type": "markdown",
      "metadata": {
        "id": "V4aXmVgqOuYA"
      },
      "source": [
        "学習データ(train.txt)と検証データ(dev.txt)が8:2の割合で生成されます\n",
        "トークナイザーをT5に変更する"
      ]
    },
    {
      "cell_type": "markdown",
      "metadata": {
        "id": "RhEYPEAerF9W"
      },
      "source": [
        "以下のコマンドでテキスト生成のファインチューニングを実行します。  \n",
        "今回は事前学習済みモデルとしてrinnaの日本語GPT2モデルを使用します  \n",
        "次にハイパーパラメーターの設定を行います  \n",
        "train_file,validation_fileを設定します  \n",
        "今回は追加でoverwrite_output_dirを追加しています。これはチューニングを実行するたびに  \n",
        "outputのファイルを更新します"
      ]
    },
    {
      "cell_type": "code",
      "metadata": {
        "id": "cyo6SIFjXW_x"
      },
      "source": [
        "with open(\"te.txt\", \"r\") as f:\n",
        "    print(f.read())"
      ],
      "execution_count": null,
      "outputs": []
    },
    {
      "cell_type": "code",
      "metadata": {
        "id": "IgaOEkcgplBX"
      },
      "source": [
        "%%time\n",
        "# ファインチューニングの実行\n",
        "!python ./transformers/examples/language-modeling/run_clm.py \\\n",
        "    --model_name_or_path=rinna/japanese-gpt2-medium \\\n",
        "    --train_file=te.txt \\\n",
        "    --validation_file=te.txt \\\n",
        "    --do_train \\\n",
        "    --do_eval \\\n",
        "    --num_train_epochs=20 \\\n",
        "    --save_steps=5000 \\\n",
        "    --save_total_limit=3 \\\n",
        "    --per_device_train_batch_size=1 \\\n",
        "    --per_device_eval_batch_size=1 \\\n",
        "    --output_dir=output/ \\\n",
        "    --use_fast_tokenizer=False"
      ],
      "execution_count": null,
      "outputs": []
    },
    {
      "cell_type": "markdown",
      "metadata": {
        "id": "2iArv58GsXPT"
      },
      "source": [
        "テンソルボードは一度使うとリロードを挟む必要があります。やり方は別途学習"
      ]
    },
    {
      "cell_type": "code",
      "metadata": {
        "id": "vszP2OyBaY2o"
      },
      "source": [
        "!nvidia-smi"
      ],
      "execution_count": null,
      "outputs": []
    },
    {
      "cell_type": "markdown",
      "metadata": {
        "id": "8iU48Hc1exYB"
      },
      "source": [
        "--logdirの次にディレクトリーを指定します\n",
        "今回はoutputディレクトリーです"
      ]
    },
    {
      "cell_type": "code",
      "metadata": {
        "id": "LLq97ODjXTsU"
      },
      "source": [
        "%load_ext tensorboard\n",
        "%tensorboard --logdir output"
      ],
      "execution_count": null,
      "outputs": []
    },
    {
      "cell_type": "markdown",
      "metadata": {
        "id": "MOIECt4Gvlhr"
      },
      "source": [
        "最後にモデルを実行して成果を確かめます。  \n",
        "ここでの注意点は使用するmodelがAutoModelForCausalLMであることです  \n",
        "注意点を書きます。前回と違い今回実行して時に  \n",
        "run-clmファイルのトークナイザーを変更せずに  \n",
        "実行した場合、正しいIDが割り当てられていないため  \n",
        "意味が全然通ってない言葉が出力されます。  "
      ]
    },
    {
      "cell_type": "code",
      "metadata": {
        "id": "PxBi1D8_Aqky"
      },
      "source": [
        "import torch\n",
        "from transformers import T5Tokenizer,AutoModelForCausalLM\n",
        "\n",
        "text =\"おはよう\"\n",
        "tokenizer = T5Tokenizer.from_pretrained(\"rinna/japanese-gpt2-medium\")\n",
        "model = AutoModelForCausalLM.from_pretrained(\"/content/drive/MyDrive/NLP/GPT2rinna/output\")\n",
        "\n",
        "input = tokenizer.encode(text,return_tensors=\"pt\")\n",
        "\n",
        "model.eval()\n",
        "with torch.no_grad():\n",
        "  output = model.generate(input,do_sample=True,max_length=15,num_return_sequences=1)\n",
        "  print(tokenizer.batch_decode(output))"
      ],
      "execution_count": null,
      "outputs": []
    },
    {
      "cell_type": "markdown",
      "metadata": {
        "id": "SW-rTyUHhhWK"
      },
      "source": [
        "やはりデータセットを改善する方が良さそうです。  \n",
        "今回は大量の文章を使いましたが次は会話セットを300万ほど準備して行いたいと思います  \n",
        "その時に注意点として会話文の長さに注意した方が良さそうです。  "
      ]
    },
    {
      "cell_type": "markdown",
      "metadata": {
        "id": "zhZZMFmuwlUG"
      },
      "source": [
        "データの量によって一回分のバッチが足りないエラーが発生してる可能性があるのでデータセットの量を拡張する"
      ]
    }
  ]
}